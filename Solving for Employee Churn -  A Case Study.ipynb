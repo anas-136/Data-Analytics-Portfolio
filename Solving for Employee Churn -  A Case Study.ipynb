{
 "cells": [
  {
   "cell_type": "markdown",
   "id": "b6d7946a",
   "metadata": {},
   "source": [
    "### Prepared by: Anas Muhammad Ashraf"
   ]
  },
  {
   "cell_type": "markdown",
   "id": "d7c2716d",
   "metadata": {},
   "source": [
    "# INTRODUCTION"
   ]
  },
  {
   "cell_type": "markdown",
   "id": "d7333f74",
   "metadata": {},
   "source": [
    "One of the most common problems at work is turnover. Replacing a worker earning about\n",
    "50,000 dollars cost the company about 10,000 dollars or 20% of that worker’s yearly\n",
    "income according to the Center of American Progress. Replacing a high-level employee can cost multiple of that.\n",
    "\n",
    "Costs include:\n",
    "- Cost of off-boarding\n",
    "- Cost of hiring (advertising, interviewing, hiring)\n",
    "- Cost of onboarding a new person (training, management time)\n",
    "- Lost productivity (a new person may take 1-2 years to reach the productivity of an existing person)\n",
    "\n",
    "As a data analyst, my job was to build a machine learning model to help the HR department create better decision making. \n",
    "\n",
    "Based on the data, the following objectives were developed: \n",
    "\n",
    "- Identify what factors contributed to employee turnover the most.\n",
    "- Perform Cluster Analysis to find any meaningful pattern.\n",
    "- Build a model that predicts the likelihood if a certain employee will leave the company or not.\n",
    "- Create different retention strategies on targeted employees."
   ]
  },
  {
   "cell_type": "markdown",
   "id": "ca7ce31f",
   "metadata": {},
   "source": [
    "To complete the first objective, Exploratory Data Analysis was performed in order to identify the factors that contributed to employee turnover the most. You'll find EDA in the 'Solving for Employee Churn - EDA' file."
   ]
  },
  {
   "cell_type": "markdown",
   "id": "e4165850",
   "metadata": {},
   "source": [
    "## Import Libraries"
   ]
  },
  {
   "cell_type": "code",
   "execution_count": 1,
   "id": "bffe8fde",
   "metadata": {},
   "outputs": [],
   "source": [
    "import pandas as pd  # for dataframes\n",
    "import matplotlib.pyplot as plt # for plotting graphs\n",
    "import seaborn as sns # for plotting graphs\n",
    "%matplotlib inline\n",
    "from sklearn.metrics import roc_auc_score, roc_curve\n",
    "import matplotlib.pyplot as pyplot\n",
    "import numpy as np\n",
    "from sklearn import metrics"
   ]
  },
  {
   "cell_type": "markdown",
   "id": "3bc037d3",
   "metadata": {},
   "source": [
    "## Import Dataset"
   ]
  },
  {
   "cell_type": "code",
   "execution_count": 2,
   "id": "4e1ca6a3",
   "metadata": {},
   "outputs": [],
   "source": [
    "data = pd.read_csv('HR-data.csv')"
   ]
  },
  {
   "cell_type": "code",
   "execution_count": 3,
   "id": "9e1a4946",
   "metadata": {
    "scrolled": true
   },
   "outputs": [
    {
     "data": {
      "text/html": [
       "<div>\n",
       "<style scoped>\n",
       "    .dataframe tbody tr th:only-of-type {\n",
       "        vertical-align: middle;\n",
       "    }\n",
       "\n",
       "    .dataframe tbody tr th {\n",
       "        vertical-align: top;\n",
       "    }\n",
       "\n",
       "    .dataframe thead th {\n",
       "        text-align: right;\n",
       "    }\n",
       "</style>\n",
       "<table border=\"1\" class=\"dataframe\">\n",
       "  <thead>\n",
       "    <tr style=\"text-align: right;\">\n",
       "      <th></th>\n",
       "      <th>satisfaction_level</th>\n",
       "      <th>last_evaluation</th>\n",
       "      <th>number_project</th>\n",
       "      <th>average_montly_hours</th>\n",
       "      <th>time_spend_company</th>\n",
       "      <th>Work_accident</th>\n",
       "      <th>left</th>\n",
       "      <th>promotion_last_5years</th>\n",
       "      <th>sales</th>\n",
       "      <th>salary</th>\n",
       "    </tr>\n",
       "  </thead>\n",
       "  <tbody>\n",
       "    <tr>\n",
       "      <th>0</th>\n",
       "      <td>0.38</td>\n",
       "      <td>0.53</td>\n",
       "      <td>2</td>\n",
       "      <td>157</td>\n",
       "      <td>3</td>\n",
       "      <td>0</td>\n",
       "      <td>1</td>\n",
       "      <td>0</td>\n",
       "      <td>sales</td>\n",
       "      <td>low</td>\n",
       "    </tr>\n",
       "    <tr>\n",
       "      <th>1</th>\n",
       "      <td>0.80</td>\n",
       "      <td>0.86</td>\n",
       "      <td>5</td>\n",
       "      <td>262</td>\n",
       "      <td>6</td>\n",
       "      <td>0</td>\n",
       "      <td>1</td>\n",
       "      <td>0</td>\n",
       "      <td>sales</td>\n",
       "      <td>medium</td>\n",
       "    </tr>\n",
       "    <tr>\n",
       "      <th>2</th>\n",
       "      <td>0.11</td>\n",
       "      <td>0.88</td>\n",
       "      <td>7</td>\n",
       "      <td>272</td>\n",
       "      <td>4</td>\n",
       "      <td>0</td>\n",
       "      <td>1</td>\n",
       "      <td>0</td>\n",
       "      <td>sales</td>\n",
       "      <td>medium</td>\n",
       "    </tr>\n",
       "    <tr>\n",
       "      <th>3</th>\n",
       "      <td>0.72</td>\n",
       "      <td>0.87</td>\n",
       "      <td>5</td>\n",
       "      <td>223</td>\n",
       "      <td>5</td>\n",
       "      <td>0</td>\n",
       "      <td>1</td>\n",
       "      <td>0</td>\n",
       "      <td>sales</td>\n",
       "      <td>low</td>\n",
       "    </tr>\n",
       "    <tr>\n",
       "      <th>4</th>\n",
       "      <td>0.37</td>\n",
       "      <td>0.52</td>\n",
       "      <td>2</td>\n",
       "      <td>159</td>\n",
       "      <td>3</td>\n",
       "      <td>0</td>\n",
       "      <td>1</td>\n",
       "      <td>0</td>\n",
       "      <td>sales</td>\n",
       "      <td>low</td>\n",
       "    </tr>\n",
       "    <tr>\n",
       "      <th>5</th>\n",
       "      <td>0.41</td>\n",
       "      <td>0.50</td>\n",
       "      <td>2</td>\n",
       "      <td>153</td>\n",
       "      <td>3</td>\n",
       "      <td>0</td>\n",
       "      <td>1</td>\n",
       "      <td>0</td>\n",
       "      <td>sales</td>\n",
       "      <td>low</td>\n",
       "    </tr>\n",
       "    <tr>\n",
       "      <th>6</th>\n",
       "      <td>0.10</td>\n",
       "      <td>0.77</td>\n",
       "      <td>6</td>\n",
       "      <td>247</td>\n",
       "      <td>4</td>\n",
       "      <td>0</td>\n",
       "      <td>1</td>\n",
       "      <td>0</td>\n",
       "      <td>sales</td>\n",
       "      <td>low</td>\n",
       "    </tr>\n",
       "    <tr>\n",
       "      <th>7</th>\n",
       "      <td>0.92</td>\n",
       "      <td>0.85</td>\n",
       "      <td>5</td>\n",
       "      <td>259</td>\n",
       "      <td>5</td>\n",
       "      <td>0</td>\n",
       "      <td>1</td>\n",
       "      <td>0</td>\n",
       "      <td>sales</td>\n",
       "      <td>low</td>\n",
       "    </tr>\n",
       "    <tr>\n",
       "      <th>8</th>\n",
       "      <td>0.89</td>\n",
       "      <td>1.00</td>\n",
       "      <td>5</td>\n",
       "      <td>224</td>\n",
       "      <td>5</td>\n",
       "      <td>0</td>\n",
       "      <td>1</td>\n",
       "      <td>0</td>\n",
       "      <td>sales</td>\n",
       "      <td>low</td>\n",
       "    </tr>\n",
       "    <tr>\n",
       "      <th>9</th>\n",
       "      <td>0.42</td>\n",
       "      <td>0.53</td>\n",
       "      <td>2</td>\n",
       "      <td>142</td>\n",
       "      <td>3</td>\n",
       "      <td>0</td>\n",
       "      <td>1</td>\n",
       "      <td>0</td>\n",
       "      <td>sales</td>\n",
       "      <td>low</td>\n",
       "    </tr>\n",
       "  </tbody>\n",
       "</table>\n",
       "</div>"
      ],
      "text/plain": [
       "   satisfaction_level  last_evaluation  number_project  average_montly_hours  \\\n",
       "0                0.38             0.53               2                   157   \n",
       "1                0.80             0.86               5                   262   \n",
       "2                0.11             0.88               7                   272   \n",
       "3                0.72             0.87               5                   223   \n",
       "4                0.37             0.52               2                   159   \n",
       "5                0.41             0.50               2                   153   \n",
       "6                0.10             0.77               6                   247   \n",
       "7                0.92             0.85               5                   259   \n",
       "8                0.89             1.00               5                   224   \n",
       "9                0.42             0.53               2                   142   \n",
       "\n",
       "   time_spend_company  Work_accident  left  promotion_last_5years  sales  \\\n",
       "0                   3              0     1                      0  sales   \n",
       "1                   6              0     1                      0  sales   \n",
       "2                   4              0     1                      0  sales   \n",
       "3                   5              0     1                      0  sales   \n",
       "4                   3              0     1                      0  sales   \n",
       "5                   3              0     1                      0  sales   \n",
       "6                   4              0     1                      0  sales   \n",
       "7                   5              0     1                      0  sales   \n",
       "8                   5              0     1                      0  sales   \n",
       "9                   3              0     1                      0  sales   \n",
       "\n",
       "   salary  \n",
       "0     low  \n",
       "1  medium  \n",
       "2  medium  \n",
       "3     low  \n",
       "4     low  \n",
       "5     low  \n",
       "6     low  \n",
       "7     low  \n",
       "8     low  \n",
       "9     low  "
      ]
     },
     "execution_count": 3,
     "metadata": {},
     "output_type": "execute_result"
    }
   ],
   "source": [
    "data.head(10)"
   ]
  },
  {
   "cell_type": "code",
   "execution_count": 4,
   "id": "7bf37c1e",
   "metadata": {
    "scrolled": true
   },
   "outputs": [
    {
     "name": "stdout",
     "output_type": "stream",
     "text": [
      "<class 'pandas.core.frame.DataFrame'>\n",
      "RangeIndex: 14999 entries, 0 to 14998\n",
      "Data columns (total 10 columns):\n",
      " #   Column                 Non-Null Count  Dtype  \n",
      "---  ------                 --------------  -----  \n",
      " 0   satisfaction_level     14999 non-null  float64\n",
      " 1   last_evaluation        14999 non-null  float64\n",
      " 2   number_project         14999 non-null  int64  \n",
      " 3   average_montly_hours   14999 non-null  int64  \n",
      " 4   time_spend_company     14999 non-null  int64  \n",
      " 5   Work_accident          14999 non-null  int64  \n",
      " 6   left                   14999 non-null  int64  \n",
      " 7   promotion_last_5years  14999 non-null  int64  \n",
      " 8   sales                  14999 non-null  object \n",
      " 9   salary                 14999 non-null  object \n",
      "dtypes: float64(2), int64(6), object(2)\n",
      "memory usage: 1.1+ MB\n"
     ]
    }
   ],
   "source": [
    "data.info()"
   ]
  },
  {
   "cell_type": "markdown",
   "id": "445e7c32",
   "metadata": {},
   "source": [
    "## Identify Any Null/Missing Values"
   ]
  },
  {
   "cell_type": "code",
   "execution_count": 5,
   "id": "aa3ebad9",
   "metadata": {
    "scrolled": true
   },
   "outputs": [
    {
     "data": {
      "text/plain": [
       "satisfaction_level       0\n",
       "last_evaluation          0\n",
       "number_project           0\n",
       "average_montly_hours     0\n",
       "time_spend_company       0\n",
       "Work_accident            0\n",
       "left                     0\n",
       "promotion_last_5years    0\n",
       "sales                    0\n",
       "salary                   0\n",
       "dtype: int64"
      ]
     },
     "execution_count": 5,
     "metadata": {},
     "output_type": "execute_result"
    }
   ],
   "source": [
    "data.isna().sum()"
   ]
  },
  {
   "cell_type": "markdown",
   "id": "3a4bd230",
   "metadata": {},
   "source": [
    "The data is clean and has no null or missing values. Therefore, the data is ready for preparing the Machine Learning Models."
   ]
  },
  {
   "cell_type": "code",
   "execution_count": 6,
   "id": "b493b36a",
   "metadata": {
    "scrolled": true
   },
   "outputs": [
    {
     "data": {
      "text/html": [
       "<div>\n",
       "<style scoped>\n",
       "    .dataframe tbody tr th:only-of-type {\n",
       "        vertical-align: middle;\n",
       "    }\n",
       "\n",
       "    .dataframe tbody tr th {\n",
       "        vertical-align: top;\n",
       "    }\n",
       "\n",
       "    .dataframe thead th {\n",
       "        text-align: right;\n",
       "    }\n",
       "</style>\n",
       "<table border=\"1\" class=\"dataframe\">\n",
       "  <thead>\n",
       "    <tr style=\"text-align: right;\">\n",
       "      <th></th>\n",
       "      <th>satisfaction_level</th>\n",
       "      <th>last_evaluation</th>\n",
       "      <th>number_project</th>\n",
       "      <th>average_montly_hours</th>\n",
       "      <th>time_spend_company</th>\n",
       "      <th>Work_accident</th>\n",
       "      <th>left</th>\n",
       "      <th>promotion_last_5years</th>\n",
       "    </tr>\n",
       "  </thead>\n",
       "  <tbody>\n",
       "    <tr>\n",
       "      <th>count</th>\n",
       "      <td>14999.000000</td>\n",
       "      <td>14999.000000</td>\n",
       "      <td>14999.000000</td>\n",
       "      <td>14999.000000</td>\n",
       "      <td>14999.000000</td>\n",
       "      <td>14999.000000</td>\n",
       "      <td>14999.000000</td>\n",
       "      <td>14999.000000</td>\n",
       "    </tr>\n",
       "    <tr>\n",
       "      <th>mean</th>\n",
       "      <td>0.612834</td>\n",
       "      <td>0.716102</td>\n",
       "      <td>3.803054</td>\n",
       "      <td>201.050337</td>\n",
       "      <td>3.498233</td>\n",
       "      <td>0.144610</td>\n",
       "      <td>0.238083</td>\n",
       "      <td>0.021268</td>\n",
       "    </tr>\n",
       "    <tr>\n",
       "      <th>std</th>\n",
       "      <td>0.248631</td>\n",
       "      <td>0.171169</td>\n",
       "      <td>1.232592</td>\n",
       "      <td>49.943099</td>\n",
       "      <td>1.460136</td>\n",
       "      <td>0.351719</td>\n",
       "      <td>0.425924</td>\n",
       "      <td>0.144281</td>\n",
       "    </tr>\n",
       "    <tr>\n",
       "      <th>min</th>\n",
       "      <td>0.090000</td>\n",
       "      <td>0.360000</td>\n",
       "      <td>2.000000</td>\n",
       "      <td>96.000000</td>\n",
       "      <td>2.000000</td>\n",
       "      <td>0.000000</td>\n",
       "      <td>0.000000</td>\n",
       "      <td>0.000000</td>\n",
       "    </tr>\n",
       "    <tr>\n",
       "      <th>25%</th>\n",
       "      <td>0.440000</td>\n",
       "      <td>0.560000</td>\n",
       "      <td>3.000000</td>\n",
       "      <td>156.000000</td>\n",
       "      <td>3.000000</td>\n",
       "      <td>0.000000</td>\n",
       "      <td>0.000000</td>\n",
       "      <td>0.000000</td>\n",
       "    </tr>\n",
       "    <tr>\n",
       "      <th>50%</th>\n",
       "      <td>0.640000</td>\n",
       "      <td>0.720000</td>\n",
       "      <td>4.000000</td>\n",
       "      <td>200.000000</td>\n",
       "      <td>3.000000</td>\n",
       "      <td>0.000000</td>\n",
       "      <td>0.000000</td>\n",
       "      <td>0.000000</td>\n",
       "    </tr>\n",
       "    <tr>\n",
       "      <th>75%</th>\n",
       "      <td>0.820000</td>\n",
       "      <td>0.870000</td>\n",
       "      <td>5.000000</td>\n",
       "      <td>245.000000</td>\n",
       "      <td>4.000000</td>\n",
       "      <td>0.000000</td>\n",
       "      <td>0.000000</td>\n",
       "      <td>0.000000</td>\n",
       "    </tr>\n",
       "    <tr>\n",
       "      <th>max</th>\n",
       "      <td>1.000000</td>\n",
       "      <td>1.000000</td>\n",
       "      <td>7.000000</td>\n",
       "      <td>310.000000</td>\n",
       "      <td>10.000000</td>\n",
       "      <td>1.000000</td>\n",
       "      <td>1.000000</td>\n",
       "      <td>1.000000</td>\n",
       "    </tr>\n",
       "  </tbody>\n",
       "</table>\n",
       "</div>"
      ],
      "text/plain": [
       "       satisfaction_level  last_evaluation  number_project  \\\n",
       "count        14999.000000     14999.000000    14999.000000   \n",
       "mean             0.612834         0.716102        3.803054   \n",
       "std              0.248631         0.171169        1.232592   \n",
       "min              0.090000         0.360000        2.000000   \n",
       "25%              0.440000         0.560000        3.000000   \n",
       "50%              0.640000         0.720000        4.000000   \n",
       "75%              0.820000         0.870000        5.000000   \n",
       "max              1.000000         1.000000        7.000000   \n",
       "\n",
       "       average_montly_hours  time_spend_company  Work_accident          left  \\\n",
       "count          14999.000000        14999.000000   14999.000000  14999.000000   \n",
       "mean             201.050337            3.498233       0.144610      0.238083   \n",
       "std               49.943099            1.460136       0.351719      0.425924   \n",
       "min               96.000000            2.000000       0.000000      0.000000   \n",
       "25%              156.000000            3.000000       0.000000      0.000000   \n",
       "50%              200.000000            3.000000       0.000000      0.000000   \n",
       "75%              245.000000            4.000000       0.000000      0.000000   \n",
       "max              310.000000           10.000000       1.000000      1.000000   \n",
       "\n",
       "       promotion_last_5years  \n",
       "count           14999.000000  \n",
       "mean                0.021268  \n",
       "std                 0.144281  \n",
       "min                 0.000000  \n",
       "25%                 0.000000  \n",
       "50%                 0.000000  \n",
       "75%                 0.000000  \n",
       "max                 1.000000  "
      ]
     },
     "execution_count": 6,
     "metadata": {},
     "output_type": "execute_result"
    }
   ],
   "source": [
    "data.describe()"
   ]
  },
  {
   "cell_type": "markdown",
   "id": "8cf361d2",
   "metadata": {},
   "source": [
    "Descriptive Statistics was conducted for each feature. The following insights were found from the data.\n",
    "\n",
    " - On average, the satisfaction level of employees is 61.28%, which is slightly lower than the overall average job satisfaction level in US, i.e. 65%. \n",
    " - The average monthly hours for an employee is 201 hours.\n",
    " - Each employee receives atleast 2 projects during his employement in the company.\n",
    " - Work accident rate for the company was 14.46%. The company has to take relevant measures and procedures in order to reduce work accident rate and improve the retention ratio. "
   ]
  },
  {
   "cell_type": "markdown",
   "id": "b28aca30",
   "metadata": {},
   "source": [
    "# K-MEANS ANALYSIS"
   ]
  },
  {
   "cell_type": "markdown",
   "id": "6fc1a94e",
   "metadata": {},
   "source": [
    "To conduct K-means Clustering and Analysis, the data was split into two subsets; employees that left and employees that didnt leave. For K-means, we will be using the 'left' data to gain proper and more accurate insights. "
   ]
  },
  {
   "cell_type": "code",
   "execution_count": 7,
   "id": "e8a81956",
   "metadata": {
    "scrolled": true
   },
   "outputs": [
    {
     "data": {
      "text/html": [
       "<div>\n",
       "<style scoped>\n",
       "    .dataframe tbody tr th:only-of-type {\n",
       "        vertical-align: middle;\n",
       "    }\n",
       "\n",
       "    .dataframe tbody tr th {\n",
       "        vertical-align: top;\n",
       "    }\n",
       "\n",
       "    .dataframe thead th {\n",
       "        text-align: right;\n",
       "    }\n",
       "</style>\n",
       "<table border=\"1\" class=\"dataframe\">\n",
       "  <thead>\n",
       "    <tr style=\"text-align: right;\">\n",
       "      <th></th>\n",
       "      <th>satisfaction_level</th>\n",
       "      <th>last_evaluation</th>\n",
       "      <th>number_project</th>\n",
       "      <th>average_montly_hours</th>\n",
       "      <th>time_spend_company</th>\n",
       "      <th>Work_accident</th>\n",
       "      <th>promotion_last_5years</th>\n",
       "    </tr>\n",
       "    <tr>\n",
       "      <th>left</th>\n",
       "      <th></th>\n",
       "      <th></th>\n",
       "      <th></th>\n",
       "      <th></th>\n",
       "      <th></th>\n",
       "      <th></th>\n",
       "      <th></th>\n",
       "    </tr>\n",
       "  </thead>\n",
       "  <tbody>\n",
       "    <tr>\n",
       "      <th>0</th>\n",
       "      <td>0.666810</td>\n",
       "      <td>0.715473</td>\n",
       "      <td>3.786664</td>\n",
       "      <td>199.060203</td>\n",
       "      <td>3.380032</td>\n",
       "      <td>0.175009</td>\n",
       "      <td>0.026251</td>\n",
       "    </tr>\n",
       "    <tr>\n",
       "      <th>1</th>\n",
       "      <td>0.440098</td>\n",
       "      <td>0.718113</td>\n",
       "      <td>3.855503</td>\n",
       "      <td>207.419210</td>\n",
       "      <td>3.876505</td>\n",
       "      <td>0.047326</td>\n",
       "      <td>0.005321</td>\n",
       "    </tr>\n",
       "  </tbody>\n",
       "</table>\n",
       "</div>"
      ],
      "text/plain": [
       "      satisfaction_level  last_evaluation  number_project  \\\n",
       "left                                                        \n",
       "0               0.666810         0.715473        3.786664   \n",
       "1               0.440098         0.718113        3.855503   \n",
       "\n",
       "      average_montly_hours  time_spend_company  Work_accident  \\\n",
       "left                                                            \n",
       "0               199.060203            3.380032       0.175009   \n",
       "1               207.419210            3.876505       0.047326   \n",
       "\n",
       "      promotion_last_5years  \n",
       "left                         \n",
       "0                  0.026251  \n",
       "1                  0.005321  "
      ]
     },
     "execution_count": 7,
     "metadata": {},
     "output_type": "execute_result"
    }
   ],
   "source": [
    "left = data.groupby('left')\n",
    "left.mean()"
   ]
  },
  {
   "cell_type": "code",
   "execution_count": 8,
   "id": "358ac59d",
   "metadata": {},
   "outputs": [
    {
     "data": {
      "text/html": [
       "<div>\n",
       "<style scoped>\n",
       "    .dataframe tbody tr th:only-of-type {\n",
       "        vertical-align: middle;\n",
       "    }\n",
       "\n",
       "    .dataframe tbody tr th {\n",
       "        vertical-align: top;\n",
       "    }\n",
       "\n",
       "    .dataframe thead th {\n",
       "        text-align: right;\n",
       "    }\n",
       "</style>\n",
       "<table border=\"1\" class=\"dataframe\">\n",
       "  <thead>\n",
       "    <tr style=\"text-align: right;\">\n",
       "      <th></th>\n",
       "      <th>satisfaction_level</th>\n",
       "      <th>last_evaluation</th>\n",
       "    </tr>\n",
       "  </thead>\n",
       "  <tbody>\n",
       "    <tr>\n",
       "      <th>0</th>\n",
       "      <td>0.38</td>\n",
       "      <td>0.53</td>\n",
       "    </tr>\n",
       "    <tr>\n",
       "      <th>1</th>\n",
       "      <td>0.80</td>\n",
       "      <td>0.86</td>\n",
       "    </tr>\n",
       "    <tr>\n",
       "      <th>2</th>\n",
       "      <td>0.11</td>\n",
       "      <td>0.88</td>\n",
       "    </tr>\n",
       "    <tr>\n",
       "      <th>3</th>\n",
       "      <td>0.72</td>\n",
       "      <td>0.87</td>\n",
       "    </tr>\n",
       "    <tr>\n",
       "      <th>4</th>\n",
       "      <td>0.37</td>\n",
       "      <td>0.52</td>\n",
       "    </tr>\n",
       "    <tr>\n",
       "      <th>...</th>\n",
       "      <td>...</td>\n",
       "      <td>...</td>\n",
       "    </tr>\n",
       "    <tr>\n",
       "      <th>14994</th>\n",
       "      <td>0.40</td>\n",
       "      <td>0.57</td>\n",
       "    </tr>\n",
       "    <tr>\n",
       "      <th>14995</th>\n",
       "      <td>0.37</td>\n",
       "      <td>0.48</td>\n",
       "    </tr>\n",
       "    <tr>\n",
       "      <th>14996</th>\n",
       "      <td>0.37</td>\n",
       "      <td>0.53</td>\n",
       "    </tr>\n",
       "    <tr>\n",
       "      <th>14997</th>\n",
       "      <td>0.11</td>\n",
       "      <td>0.96</td>\n",
       "    </tr>\n",
       "    <tr>\n",
       "      <th>14998</th>\n",
       "      <td>0.37</td>\n",
       "      <td>0.52</td>\n",
       "    </tr>\n",
       "  </tbody>\n",
       "</table>\n",
       "<p>3571 rows × 2 columns</p>\n",
       "</div>"
      ],
      "text/plain": [
       "       satisfaction_level  last_evaluation\n",
       "0                    0.38             0.53\n",
       "1                    0.80             0.86\n",
       "2                    0.11             0.88\n",
       "3                    0.72             0.87\n",
       "4                    0.37             0.52\n",
       "...                   ...              ...\n",
       "14994                0.40             0.57\n",
       "14995                0.37             0.48\n",
       "14996                0.37             0.53\n",
       "14997                0.11             0.96\n",
       "14998                0.37             0.52\n",
       "\n",
       "[3571 rows x 2 columns]"
      ]
     },
     "execution_count": 8,
     "metadata": {},
     "output_type": "execute_result"
    }
   ],
   "source": [
    "from sklearn.cluster import KMeans\n",
    "##Filtering out data\n",
    "left_emp =  data[['satisfaction_level', 'last_evaluation']][data.left == 1]\n",
    "left_emp"
   ]
  },
  {
   "cell_type": "code",
   "execution_count": 9,
   "id": "1154a12a",
   "metadata": {},
   "outputs": [
    {
     "data": {
      "text/plain": [
       "<AxesSubplot:xlabel='satisfaction_level', ylabel='last_evaluation'>"
      ]
     },
     "execution_count": 9,
     "metadata": {},
     "output_type": "execute_result"
    },
    {
     "data": {
      "image/png": "[encoded data removed]",
      "text/plain": [
       "<Figure size 432x288 with 1 Axes>"
      ]
     },
     "metadata": {
      "needs_background": "light"
     },
     "output_type": "display_data"
    }
   ],
   "source": [
    "sns.scatterplot(data = left_emp, x=\"satisfaction_level\", y=\"last_evaluation\", c = [\"green\"])"
   ]
  },
  {
   "cell_type": "markdown",
   "id": "a02674d8",
   "metadata": {},
   "source": [
    "To determine the number of clusters ideal for our analysis we will use the Elbow Method. It is the most popular method for determining the optimal number of clusters. The method is based on calculating the Within-Cluster-Sum of Squared Errors (WSS) for different number of clusters (k) and selecting the k for which change in WSS first starts to diminish."
   ]
  },
  {
   "cell_type": "code",
   "execution_count": 10,
   "id": "1ed4f20e",
   "metadata": {},
   "outputs": [
    {
     "name": "stderr",
     "output_type": "stream",
     "text": [
      "C:\\Users\\lenovo\\AppData\\Roaming\\Python\\Python39\\site-packages\\sklearn\\cluster\\_kmeans.py:870: FutureWarning: The default value of `n_init` will change from 10 to 'auto' in 1.4. Set the value of `n_init` explicitly to suppress the warning\n",
      "  warnings.warn(\n",
      "C:\\Users\\lenovo\\AppData\\Roaming\\Python\\Python39\\site-packages\\sklearn\\cluster\\_kmeans.py:870: FutureWarning: The default value of `n_init` will change from 10 to 'auto' in 1.4. Set the value of `n_init` explicitly to suppress the warning\n",
      "  warnings.warn(\n",
      "C:\\Users\\lenovo\\AppData\\Roaming\\Python\\Python39\\site-packages\\sklearn\\cluster\\_kmeans.py:870: FutureWarning: The default value of `n_init` will change from 10 to 'auto' in 1.4. Set the value of `n_init` explicitly to suppress the warning\n",
      "  warnings.warn(\n",
      "C:\\Users\\lenovo\\AppData\\Roaming\\Python\\Python39\\site-packages\\sklearn\\cluster\\_kmeans.py:870: FutureWarning: The default value of `n_init` will change from 10 to 'auto' in 1.4. Set the value of `n_init` explicitly to suppress the warning\n",
      "  warnings.warn(\n",
      "C:\\Users\\lenovo\\AppData\\Roaming\\Python\\Python39\\site-packages\\sklearn\\cluster\\_kmeans.py:870: FutureWarning: The default value of `n_init` will change from 10 to 'auto' in 1.4. Set the value of `n_init` explicitly to suppress the warning\n",
      "  warnings.warn(\n",
      "C:\\Users\\lenovo\\AppData\\Roaming\\Python\\Python39\\site-packages\\sklearn\\cluster\\_kmeans.py:870: FutureWarning: The default value of `n_init` will change from 10 to 'auto' in 1.4. Set the value of `n_init` explicitly to suppress the warning\n",
      "  warnings.warn(\n",
      "C:\\Users\\lenovo\\AppData\\Roaming\\Python\\Python39\\site-packages\\sklearn\\cluster\\_kmeans.py:870: FutureWarning: The default value of `n_init` will change from 10 to 'auto' in 1.4. Set the value of `n_init` explicitly to suppress the warning\n",
      "  warnings.warn(\n",
      "C:\\Users\\lenovo\\AppData\\Roaming\\Python\\Python39\\site-packages\\sklearn\\cluster\\_kmeans.py:870: FutureWarning: The default value of `n_init` will change from 10 to 'auto' in 1.4. Set the value of `n_init` explicitly to suppress the warning\n",
      "  warnings.warn(\n",
      "C:\\Users\\lenovo\\AppData\\Roaming\\Python\\Python39\\site-packages\\sklearn\\cluster\\_kmeans.py:870: FutureWarning: The default value of `n_init` will change from 10 to 'auto' in 1.4. Set the value of `n_init` explicitly to suppress the warning\n",
      "  warnings.warn(\n"
     ]
    }
   ],
   "source": [
    "distortions = []\n",
    "K = range(1,10)\n",
    "for k in K:\n",
    "    kmeanModel = KMeans(n_clusters=k)\n",
    "    kmeanModel.fit(left_emp)\n",
    "    distortions.append(kmeanModel.inertia_)"
   ]
  },
  {
   "cell_type": "code",
   "execution_count": 11,
   "id": "76fe1143",
   "metadata": {},
   "outputs": [
    {
     "data": {
      "image/png": "[encoded data removed]",
      "text/plain": [
       "<Figure size 1152x576 with 1 Axes>"
      ]
     },
     "metadata": {
      "needs_background": "light"
     },
     "output_type": "display_data"
    }
   ],
   "source": [
    "plt.figure(figsize=(16,8))\n",
    "plt.plot(K, distortions, 'bx-')\n",
    "plt.xlabel('k')\n",
    "plt.ylabel('Distortion')\n",
    "plt.title('The Elbow Method showing the optimal k')\n",
    "plt.show()"
   ]
  },
  {
   "cell_type": "markdown",
   "id": "683a7127",
   "metadata": {},
   "source": [
    "The line graph shows that the WSS first starts to diminish at k=3, therfore, the ideal number of clusters for our analysis will be 3. "
   ]
  },
  {
   "cell_type": "code",
   "execution_count": 12,
   "id": "f77286fb",
   "metadata": {},
   "outputs": [
    {
     "name": "stderr",
     "output_type": "stream",
     "text": [
      "C:\\Users\\lenovo\\AppData\\Roaming\\Python\\Python39\\site-packages\\sklearn\\cluster\\_kmeans.py:870: FutureWarning: The default value of `n_init` will change from 10 to 'auto' in 1.4. Set the value of `n_init` explicitly to suppress the warning\n",
      "  warnings.warn(\n"
     ]
    },
    {
     "data": {
      "image/png": "[encoded data removed]",
      "text/plain": [
       "<Figure size 432x288 with 1 Axes>"
      ]
     },
     "metadata": {
      "needs_background": "light"
     },
     "output_type": "display_data"
    }
   ],
   "source": [
    "kmeans = KMeans(n_clusters = 3, random_state = 0).fit(left_emp)\n",
    "left_emp['label'] = kmeans.labels_\n",
    "\n",
    "plt.scatter(left_emp['satisfaction_level'], left_emp['last_evaluation'], c=left_emp['label'],cmap='Accent')\n",
    "plt.xlabel('Satisfaction Level')\n",
    "plt.ylabel('Last Evaluation')\n",
    "plt.title('3 Clusters of employees who left')\n",
    "plt.show()"
   ]
  },
  {
   "cell_type": "markdown",
   "id": "c9a64b3f",
   "metadata": {},
   "source": [
    "The three clusters are shown in the plot above.\n",
    "\n",
    "- Green Cluster (Hard-working and Happy Employee): Satisfaction between 0.7~1.0 and evaluations were greater than 0.8. Which could mean that employees in this cluster were “ideal”. They loved their work and were evaluated highly for their performance. However, these employees might have left the job as they found a better opportunity with a higher salary or promotion.\n",
    "\n",
    "- Blue Cluster (Bad and Sad Employee): Satisfaction between about 0.35~0.45 and evaluations below ~0.58. This could be seen as employees who were badly evaluated and felt bad at work. These employees either left their job or were made redundant.\n",
    "\n",
    "- Grey Cluster (Hard-working, Sad and Frustrated Employee): Satisfaction was below 0.2 and evaluations were greater than 0.75. These are the employees who performed really well but left their jobs due to poor working environment"
   ]
  },
  {
   "cell_type": "markdown",
   "id": "bcebd163",
   "metadata": {},
   "source": [
    "We also conducted Cluster Analysis on the employees who are still working at the company to identify which should we know to focus on."
   ]
  },
  {
   "cell_type": "code",
   "execution_count": 13,
   "id": "e076c3af",
   "metadata": {},
   "outputs": [],
   "source": [
    "present_emp =  data[['satisfaction_level', 'last_evaluation']][data.left == 0]"
   ]
  },
  {
   "cell_type": "code",
   "execution_count": 14,
   "id": "569317b9",
   "metadata": {},
   "outputs": [
    {
     "name": "stderr",
     "output_type": "stream",
     "text": [
      "C:\\Users\\lenovo\\AppData\\Roaming\\Python\\Python39\\site-packages\\sklearn\\cluster\\_kmeans.py:870: FutureWarning: The default value of `n_init` will change from 10 to 'auto' in 1.4. Set the value of `n_init` explicitly to suppress the warning\n",
      "  warnings.warn(\n"
     ]
    },
    {
     "data": {
      "image/png": "[encoded data removed]",
      "text/plain": [
       "<Figure size 432x288 with 1 Axes>"
      ]
     },
     "metadata": {
      "needs_background": "light"
     },
     "output_type": "display_data"
    }
   ],
   "source": [
    "kmeans = KMeans(n_clusters = 3, random_state = 0).fit(present_emp)\n",
    "# Add new column \"label\" annd assign cluster labels.\n",
    "present_emp['label'] = kmeans.labels_\n",
    "# Draw scatter plot\n",
    "plt.scatter(present_emp['satisfaction_level'], present_emp['last_evaluation'], c=present_emp['label'],cmap='Accent')\n",
    "plt.xlabel('Satisfaction Level')\n",
    "plt.ylabel('Last Evaluation')\n",
    "plt.title('3 Clusters of employees Who Are Present')\n",
    "plt.show()"
   ]
  },
  {
   "cell_type": "markdown",
   "id": "695410db",
   "metadata": {},
   "source": [
    "The three clusters are shown in the plot above.\n",
    "\n",
    "- Green Cluster (Hard-working and Happy Employee): Satisfaction between 0.7~1.0 and evaluations were greater than 0.8. Which could mean that employees in this cluster were “ideal”. They loved their work and were evaluated highly for their performance.\n",
    "\n",
    "- Blue Cluster (Hard-working, Sad and Frustrated Employee): Satisfaction was below 0.2 and evaluations were greater than 0.75.  These are the employees that are important to the company and performing really well, but they are not satisfied with the company’s environment and culture. We have to focus on this cluster as these employees are our main target of focus.\n",
    "\n",
    "- Grey Cluster (Bad and Sad Employee): Satisfaction between about 0.35~0.45 and evaluations below ~0.58. This could be seen as employees who were badly evaluated and felt bad at work."
   ]
  },
  {
   "cell_type": "markdown",
   "id": "dbe26562",
   "metadata": {},
   "source": [
    "# BUILDING MACHINE LEARNING MODELS"
   ]
  },
  {
   "cell_type": "markdown",
   "id": "46d8a2a1",
   "metadata": {},
   "source": [
    "## Preparing The Data"
   ]
  },
  {
   "cell_type": "markdown",
   "id": "eca0c863",
   "metadata": {},
   "source": [
    "For Predictive Analysis, three machine learning models are prepared for the data. Since, the response variable is categorical, we have used classification models for analysis. The following models have been used;\n",
    " - Logistic Regression\n",
    " - Decision Tree\n",
    " - Gaussion Naive Bayes\n",
    " \n",
    "To begin with the model building, we have converted two features (salary & sales) having string values into integer values using **preprocessing algorithm**. The data was then split into features and target variables. X represent features variable and Y represents target/outcome variable. \n",
    "\n",
    "Next, the data was split into train data and test data with a ratio of 70:30. Train data will be used for model building, estimation and selection, whereas the test data will be used for model evaluation. The steps are shown in the script below."
   ]
  },
  {
   "cell_type": "code",
   "execution_count": 15,
   "id": "8fe29c0e",
   "metadata": {},
   "outputs": [],
   "source": [
    "from sklearn import preprocessing\n",
    "le = preprocessing.LabelEncoder()\n",
    "data['salary']=le.fit_transform(data['salary'])\n",
    "data['Departments']=le.fit_transform(data['sales'])"
   ]
  },
  {
   "cell_type": "code",
   "execution_count": 16,
   "id": "c3fc6c3f",
   "metadata": {},
   "outputs": [
    {
     "data": {
      "text/html": [
       "<div>\n",
       "<style scoped>\n",
       "    .dataframe tbody tr th:only-of-type {\n",
       "        vertical-align: middle;\n",
       "    }\n",
       "\n",
       "    .dataframe tbody tr th {\n",
       "        vertical-align: top;\n",
       "    }\n",
       "\n",
       "    .dataframe thead th {\n",
       "        text-align: right;\n",
       "    }\n",
       "</style>\n",
       "<table border=\"1\" class=\"dataframe\">\n",
       "  <thead>\n",
       "    <tr style=\"text-align: right;\">\n",
       "      <th></th>\n",
       "      <th>satisfaction_level</th>\n",
       "      <th>last_evaluation</th>\n",
       "      <th>number_project</th>\n",
       "      <th>average_montly_hours</th>\n",
       "      <th>time_spend_company</th>\n",
       "      <th>Work_accident</th>\n",
       "      <th>left</th>\n",
       "      <th>promotion_last_5years</th>\n",
       "      <th>sales</th>\n",
       "      <th>salary</th>\n",
       "      <th>Departments</th>\n",
       "    </tr>\n",
       "  </thead>\n",
       "  <tbody>\n",
       "    <tr>\n",
       "      <th>0</th>\n",
       "      <td>0.38</td>\n",
       "      <td>0.53</td>\n",
       "      <td>2</td>\n",
       "      <td>157</td>\n",
       "      <td>3</td>\n",
       "      <td>0</td>\n",
       "      <td>1</td>\n",
       "      <td>0</td>\n",
       "      <td>sales</td>\n",
       "      <td>1</td>\n",
       "      <td>7</td>\n",
       "    </tr>\n",
       "    <tr>\n",
       "      <th>1</th>\n",
       "      <td>0.80</td>\n",
       "      <td>0.86</td>\n",
       "      <td>5</td>\n",
       "      <td>262</td>\n",
       "      <td>6</td>\n",
       "      <td>0</td>\n",
       "      <td>1</td>\n",
       "      <td>0</td>\n",
       "      <td>sales</td>\n",
       "      <td>2</td>\n",
       "      <td>7</td>\n",
       "    </tr>\n",
       "    <tr>\n",
       "      <th>2</th>\n",
       "      <td>0.11</td>\n",
       "      <td>0.88</td>\n",
       "      <td>7</td>\n",
       "      <td>272</td>\n",
       "      <td>4</td>\n",
       "      <td>0</td>\n",
       "      <td>1</td>\n",
       "      <td>0</td>\n",
       "      <td>sales</td>\n",
       "      <td>2</td>\n",
       "      <td>7</td>\n",
       "    </tr>\n",
       "    <tr>\n",
       "      <th>3</th>\n",
       "      <td>0.72</td>\n",
       "      <td>0.87</td>\n",
       "      <td>5</td>\n",
       "      <td>223</td>\n",
       "      <td>5</td>\n",
       "      <td>0</td>\n",
       "      <td>1</td>\n",
       "      <td>0</td>\n",
       "      <td>sales</td>\n",
       "      <td>1</td>\n",
       "      <td>7</td>\n",
       "    </tr>\n",
       "    <tr>\n",
       "      <th>4</th>\n",
       "      <td>0.37</td>\n",
       "      <td>0.52</td>\n",
       "      <td>2</td>\n",
       "      <td>159</td>\n",
       "      <td>3</td>\n",
       "      <td>0</td>\n",
       "      <td>1</td>\n",
       "      <td>0</td>\n",
       "      <td>sales</td>\n",
       "      <td>1</td>\n",
       "      <td>7</td>\n",
       "    </tr>\n",
       "  </tbody>\n",
       "</table>\n",
       "</div>"
      ],
      "text/plain": [
       "   satisfaction_level  last_evaluation  number_project  average_montly_hours  \\\n",
       "0                0.38             0.53               2                   157   \n",
       "1                0.80             0.86               5                   262   \n",
       "2                0.11             0.88               7                   272   \n",
       "3                0.72             0.87               5                   223   \n",
       "4                0.37             0.52               2                   159   \n",
       "\n",
       "   time_spend_company  Work_accident  left  promotion_last_5years  sales  \\\n",
       "0                   3              0     1                      0  sales   \n",
       "1                   6              0     1                      0  sales   \n",
       "2                   4              0     1                      0  sales   \n",
       "3                   5              0     1                      0  sales   \n",
       "4                   3              0     1                      0  sales   \n",
       "\n",
       "   salary  Departments  \n",
       "0       1            7  \n",
       "1       2            7  \n",
       "2       2            7  \n",
       "3       1            7  \n",
       "4       1            7  "
      ]
     },
     "execution_count": 16,
     "metadata": {},
     "output_type": "execute_result"
    }
   ],
   "source": [
    "data.head()"
   ]
  },
  {
   "cell_type": "code",
   "execution_count": 17,
   "id": "d14a3926",
   "metadata": {},
   "outputs": [],
   "source": [
    "#Spliting data into Feature and\n",
    "X=data[['satisfaction_level', 'last_evaluation', 'number_project',\n",
    "       'average_montly_hours', 'time_spend_company', 'Work_accident',\n",
    "       'promotion_last_5years', 'Departments', 'salary']]\n",
    "y=data['left']"
   ]
  },
  {
   "cell_type": "code",
   "execution_count": 18,
   "id": "75df685d",
   "metadata": {},
   "outputs": [],
   "source": [
    "# Import train_test_split function\n",
    "from sklearn.model_selection import train_test_split"
   ]
  },
  {
   "cell_type": "code",
   "execution_count": 19,
   "id": "0253c7e9",
   "metadata": {},
   "outputs": [],
   "source": [
    "# Split dataset into training set and test set\n",
    "X_train, X_test, y_train, y_test = train_test_split(X, y, test_size=0.3, random_state=42)  # 70% training and 30% test"
   ]
  },
  {
   "cell_type": "markdown",
   "id": "9ded734b",
   "metadata": {},
   "source": [
    "## Logistic Regression Model"
   ]
  },
  {
   "cell_type": "markdown",
   "id": "22d2ec8d",
   "metadata": {},
   "source": [
    "After preparing the data, the first model we have developed is 'Logistic Regression Model'. Logistic regression is a statistical method for predicting binary classes. The outcome or target variable is dichotomous in nature, which in this case is whether the employee leaves or does not leave.\n",
    "\n",
    "The Logistic Model was first fit into the train data set. After training the model, there were two types of predictions made using the test data set;\n",
    " - Soft Prediction\n",
    " - Hard Prediction. \n",
    " \n",
    "The results of the soft prediction predicts the probability score of each employee leaving the company. In other words, what is the probability of each employee to leave the company. On the other hand, hard predicition predicts which of the employee will leave. "
   ]
  },
  {
   "cell_type": "code",
   "execution_count": 20,
   "id": "3e3a14ab",
   "metadata": {},
   "outputs": [],
   "source": [
    "from sklearn.linear_model import LogisticRegression"
   ]
  },
  {
   "cell_type": "code",
   "execution_count": 21,
   "id": "70e73849",
   "metadata": {},
   "outputs": [],
   "source": [
    "logistic_model = LogisticRegression(class_weight='balanced', solver='lbfgs', max_iter=1000)\n",
    "logistic_model = logistic_model.fit(X_train, y_train)"
   ]
  },
  {
   "cell_type": "code",
   "execution_count": 22,
   "id": "2b591ccb",
   "metadata": {},
   "outputs": [
    {
     "data": {
      "text/plain": [
       "array([0, 0, 0, 1, 0, 0, 0, 1, 1, 1, 0, 0, 1, 0, 1], dtype=int64)"
      ]
     },
     "execution_count": 22,
     "metadata": {},
     "output_type": "execute_result"
    }
   ],
   "source": [
    "# Hard Predicition\n",
    "logistic_model.predict(X_test)[:15]"
   ]
  },
  {
   "cell_type": "code",
   "execution_count": 23,
   "id": "9d41f773",
   "metadata": {},
   "outputs": [
    {
     "data": {
      "text/plain": [
       "array([[0.9255222 , 0.0744778 ],\n",
       "       [0.88165107, 0.11834893],\n",
       "       [0.60335722, 0.39664278],\n",
       "       [0.32571085, 0.67428915],\n",
       "       [0.97663084, 0.02336916],\n",
       "       [0.52859665, 0.47140335],\n",
       "       [0.97345904, 0.02654096],\n",
       "       [0.06406012, 0.93593988],\n",
       "       [0.36264801, 0.63735199],\n",
       "       [0.14053771, 0.85946229],\n",
       "       [0.57267761, 0.42732239],\n",
       "       [0.936284  , 0.063716  ],\n",
       "       [0.12742414, 0.87257586],\n",
       "       [0.54219664, 0.45780336],\n",
       "       [0.43528688, 0.56471312]])"
      ]
     },
     "execution_count": 23,
     "metadata": {},
     "output_type": "execute_result"
    }
   ],
   "source": [
    "# Make class probability predictions\n",
    "#Soft Prediction\n",
    "logistic_model.predict_proba(X_test)[:15]"
   ]
  },
  {
   "cell_type": "code",
   "execution_count": 24,
   "id": "c14e0e7d",
   "metadata": {},
   "outputs": [
    {
     "name": "stdout",
     "output_type": "stream",
     "text": [
      "[0 0 0 ... 0 0 0]\n",
      "[0.0744778  0.11834893 0.39664278 ... 0.21888479 0.06722971 0.09324096]\n"
     ]
    }
   ],
   "source": [
    "pred_log = logistic_model.predict(X_test)\n",
    "print(pred_log)\n",
    "pred_prob_log = logistic_model.predict_proba(X_test)[:,1]\n",
    "print(pred_prob_log)"
   ]
  },
  {
   "cell_type": "code",
   "execution_count": 25,
   "id": "ca0f72a9",
   "metadata": {},
   "outputs": [
    {
     "data": {
      "text/plain": [
       "<AxesSubplot:xlabel='satisfaction_level', ylabel='left'>"
      ]
     },
     "execution_count": 25,
     "metadata": {},
     "output_type": "execute_result"
    },
    {
     "data": {
      "image/png": "[encoded data removed]",
      "text/plain": [
       "<Figure size 432x288 with 1 Axes>"
      ]
     },
     "metadata": {
      "needs_background": "light"
     },
     "output_type": "display_data"
    }
   ],
   "source": [
    "sns.regplot(x='satisfaction_level', y='left', data=data, logistic=True, color='g', ci = None)"
   ]
  },
  {
   "cell_type": "markdown",
   "id": "21427a8b",
   "metadata": {},
   "source": [
    "The plot above shows the relationship between the feature **satisfaction level** and target variable **left**. The feature satisfaction level was selected as it has the highest level of importance in the model as determined using **Extra Tree Classifier**. The curve in the plot shows an inverse relationship i.e. the higher the satisfaction level the lower the chances the employee leaves. Thus, it clearly states that the company should undertake relevant procedures to improve the satisfaction level among the employees in order to improve its retention ratio. "
   ]
  },
  {
   "cell_type": "markdown",
   "id": "5b58654d",
   "metadata": {},
   "source": [
    "## Model Evaluation"
   ]
  },
  {
   "cell_type": "markdown",
   "id": "5c895667",
   "metadata": {},
   "source": [
    "For the evaluation of the logistic model, we have used hard predictions.\n",
    "\n",
    "Firstly, we used the Confusion Matrix for the evaluation of the model. Here, you can see the \n",
    "confusion matrix in the form of the array object. The dimension of this matrix is 2x2 because \n",
    "this model is a binary classification. You have two classes 0 and 1. Diagonal values represent \n",
    "accurate predictions, while non-diagonal elements are inaccurate predictions. In the output, \n",
    "2543 and 854 are actual predictions, and 218 and 885 are incorrect predictions.\n",
    "\n",
    "Next, we used Accuracy, Precision, and Recall scores for model accuracy. Based on the \n",
    "results, the accuracy score is 75.49%, the precision score is 49.11% and the recall score is \n",
    "79.66%. Cross-validation evaluation gives an accuracy score of 0.752 with a standard \n",
    "deviation of 0.009 to the Logistic Regression model.\n",
    "\n",
    "Moreover, using the Classification Report, the precision score is 0.49 which means that out of \n",
    "all the employees the model predicted would leave, only 49% of them actually left. The recall \n",
    "score, on the other hand, states that out of all the employees that actually left, the model \n",
    "predicted 80% of the employees will leave. Overall the F1 score of the model, which is the \n",
    "weighted harmonic mean of precision and recall, is 0.61.\n",
    "\n",
    "Meanwhile, the AUC score for the logistic model is 0.819, which means 81.9% of the area is \n",
    "covered under the AUC-ROC curve as displayed in the plot below. An 81.9% AUC score \n",
    "states that the model has accurately predicted almost 82% of the observations and thus the \n",
    "model is fit for use for predictions. "
   ]
  },
  {
   "cell_type": "code",
   "execution_count": 26,
   "id": "6025c9a4",
   "metadata": {},
   "outputs": [
    {
     "name": "stdout",
     "output_type": "stream",
     "text": [
      "[0 0 0 ... 0 0 0]\n"
     ]
    }
   ],
   "source": [
    "log_pred_test = logistic_model.predict(X_test)\n",
    "print(log_pred_test)"
   ]
  },
  {
   "cell_type": "code",
   "execution_count": 27,
   "id": "25d21d03",
   "metadata": {},
   "outputs": [
    {
     "name": "stdout",
     "output_type": "stream",
     "text": [
      "[[2538  890]\n",
      " [ 220  852]]\n"
     ]
    }
   ],
   "source": [
    "# Confusion Matrix\n",
    "print (metrics.confusion_matrix(y_test, log_pred_test))"
   ]
  },
  {
   "cell_type": "code",
   "execution_count": 28,
   "id": "98ad07d2",
   "metadata": {},
   "outputs": [
    {
     "name": "stdout",
     "output_type": "stream",
     "text": [
      "Accuracy: 0.7533333333333333\n",
      "Precision: 0.4890929965556831\n",
      "Recall: 0.7947761194029851\n"
     ]
    }
   ],
   "source": [
    "# Model Accuracy, how often is the classifier correct?\n",
    "print(\"Accuracy:\",metrics.accuracy_score(y_test, log_pred_test))\n",
    "# Model Precision\n",
    "print(\"Precision:\",metrics.precision_score(y_test, log_pred_test))\n",
    "# Model Recall\n",
    "print(\"Recall:\",metrics.recall_score(y_test, log_pred_test))"
   ]
  },
  {
   "cell_type": "code",
   "execution_count": 29,
   "id": "cd5f4ed4",
   "metadata": {},
   "outputs": [
    {
     "name": "stdout",
     "output_type": "stream",
     "text": [
      "Accuracy: 0.752 (0.008)\n"
     ]
    }
   ],
   "source": [
    "from sklearn.model_selection import cross_val_score\n",
    "from sklearn.model_selection import KFold\n",
    "from numpy import mean\n",
    "from numpy import std\n",
    "cv = KFold(n_splits=10, random_state=1, shuffle=True)\n",
    "log_scores = cross_val_score(logistic_model, X, y, scoring='accuracy', cv=cv, n_jobs=-1)\n",
    "print('Accuracy: %.3f (%.3f)' % (mean(log_scores), std(log_scores)))"
   ]
  },
  {
   "cell_type": "code",
   "execution_count": 30,
   "id": "95faf91a",
   "metadata": {},
   "outputs": [
    {
     "name": "stdout",
     "output_type": "stream",
     "text": [
      "              precision    recall  f1-score   support\n",
      "\n",
      "           0       0.92      0.74      0.82      3428\n",
      "           1       0.49      0.79      0.61      1072\n",
      "\n",
      "    accuracy                           0.75      4500\n",
      "   macro avg       0.70      0.77      0.71      4500\n",
      "weighted avg       0.82      0.75      0.77      4500\n",
      "\n"
     ]
    }
   ],
   "source": [
    "print (metrics.classification_report(y_test, log_pred_test))"
   ]
  },
  {
   "cell_type": "code",
   "execution_count": 31,
   "id": "8f777744",
   "metadata": {},
   "outputs": [
    {
     "name": "stdout",
     "output_type": "stream",
     "text": [
      "No Skill: ROC AUC=0.500\n",
      "Logistic: ROC AUC=0.818\n"
     ]
    },
    {
     "data": {
      "image/png": "[encoded data removed]",
      "text/plain": [
       "<Figure size 432x288 with 1 Axes>"
      ]
     },
     "metadata": {
      "needs_background": "light"
     },
     "output_type": "display_data"
    }
   ],
   "source": [
    "## AUC-ROC Curve ##\n",
    "ns_probs = [0 for _ in range(len(y_test))]\n",
    "pred_prob_log_test = logistic_model.predict_proba(X_test)[:,1]\n",
    "# calculate scores\n",
    "ns_auc = roc_auc_score(y_test, ns_probs)\n",
    "log_auc = roc_auc_score(y_test, pred_prob_log_test)\n",
    "# summarize scores\n",
    "print('No Skill: ROC AUC=%.3f' % (ns_auc))\n",
    "print('Logistic: ROC AUC=%.3f' % (log_auc))\n",
    "# calculate roc curves\n",
    "ns_fpr, ns_tpr, _ = roc_curve(y_test, ns_probs)\n",
    "log_fpr, log_tpr, _ = roc_curve(y_test, pred_prob_log_test)\n",
    "pyplot.plot(ns_fpr, ns_tpr, linestyle='--', label='No Skill')\n",
    "pyplot.plot(log_fpr, log_tpr, marker='.', label='Logistic')\n",
    "# axis labels\n",
    "pyplot.xlabel('False Positive Rate')\n",
    "pyplot.ylabel('True Positive Rate')\n",
    "# show the legend\n",
    "pyplot.legend()\n",
    "# show the plot\n",
    "pyplot.show()"
   ]
  },
  {
   "cell_type": "markdown",
   "id": "1005dcce",
   "metadata": {},
   "source": [
    "## Random Forest Regression Model"
   ]
  },
  {
   "cell_type": "markdown",
   "id": "8564fd92",
   "metadata": {},
   "source": [
    "Next we have built a Random Forest model to predict whether employees will leave or stay in the company. Random forests is a supervised learning algorithm. Random forests creates decision trees on randomly selected data samples, gets prediction from each tree and selects the best solution by means of voting. \n",
    "\n",
    "To begin with the model, we first built the model by fitting it into the train data set. Then, the trained model was fit into the test data set to predict the outcome of the model. The variable **rf_y_pred** shows the predicted outcomes of the model. "
   ]
  },
  {
   "cell_type": "code",
   "execution_count": 32,
   "id": "a6859a7c",
   "metadata": {},
   "outputs": [],
   "source": [
    "from sklearn.ensemble import RandomForestClassifier"
   ]
  },
  {
   "cell_type": "code",
   "execution_count": 33,
   "id": "c9d065a7",
   "metadata": {},
   "outputs": [
    {
     "data": {
      "text/html": [
       "<style>#sk-container-id-1 {color: black;background-color: white;}#sk-container-id-1 pre{padding: 0;}#sk-container-id-1 div.sk-toggleable {background-color: white;}#sk-container-id-1 label.sk-toggleable__label {cursor: pointer;display: block;width: 100%;margin-bottom: 0;padding: 0.3em;box-sizing: border-box;text-align: center;}#sk-container-id-1 label.sk-toggleable__label-arrow:before {content: \"▸\";float: left;margin-right: 0.25em;color: #696969;}#sk-container-id-1 label.sk-toggleable__label-arrow:hover:before {color: black;}#sk-container-id-1 div.sk-estimator:hover label.sk-toggleable__label-arrow:before {color: black;}#sk-container-id-1 div.sk-toggleable__content {max-height: 0;max-width: 0;overflow: hidden;text-align: left;background-color: #f0f8ff;}#sk-container-id-1 div.sk-toggleable__content pre {margin: 0.2em;color: black;border-radius: 0.25em;background-color: #f0f8ff;}#sk-container-id-1 input.sk-toggleable__control:checked~div.sk-toggleable__content {max-height: 200px;max-width: 100%;overflow: auto;}#sk-container-id-1 input.sk-toggleable__control:checked~label.sk-toggleable__label-arrow:before {content: \"▾\";}#sk-container-id-1 div.sk-estimator input.sk-toggleable__control:checked~label.sk-toggleable__label {background-color: #d4ebff;}#sk-container-id-1 div.sk-label input.sk-toggleable__control:checked~label.sk-toggleable__label {background-color: #d4ebff;}#sk-container-id-1 input.sk-hidden--visually {border: 0;clip: rect(1px 1px 1px 1px);clip: rect(1px, 1px, 1px, 1px);height: 1px;margin: -1px;overflow: hidden;padding: 0;position: absolute;width: 1px;}#sk-container-id-1 div.sk-estimator {font-family: monospace;background-color: #f0f8ff;border: 1px dotted black;border-radius: 0.25em;box-sizing: border-box;margin-bottom: 0.5em;}#sk-container-id-1 div.sk-estimator:hover {background-color: #d4ebff;}#sk-container-id-1 div.sk-parallel-item::after {content: \"\";width: 100%;border-bottom: 1px solid gray;flex-grow: 1;}#sk-container-id-1 div.sk-label:hover label.sk-toggleable__label {background-color: #d4ebff;}#sk-container-id-1 div.sk-serial::before {content: \"\";position: absolute;border-left: 1px solid gray;box-sizing: border-box;top: 0;bottom: 0;left: 50%;z-index: 0;}#sk-container-id-1 div.sk-serial {display: flex;flex-direction: column;align-items: center;background-color: white;padding-right: 0.2em;padding-left: 0.2em;position: relative;}#sk-container-id-1 div.sk-item {position: relative;z-index: 1;}#sk-container-id-1 div.sk-parallel {display: flex;align-items: stretch;justify-content: center;background-color: white;position: relative;}#sk-container-id-1 div.sk-item::before, #sk-container-id-1 div.sk-parallel-item::before {content: \"\";position: absolute;border-left: 1px solid gray;box-sizing: border-box;top: 0;bottom: 0;left: 50%;z-index: -1;}#sk-container-id-1 div.sk-parallel-item {display: flex;flex-direction: column;z-index: 1;position: relative;background-color: white;}#sk-container-id-1 div.sk-parallel-item:first-child::after {align-self: flex-end;width: 50%;}#sk-container-id-1 div.sk-parallel-item:last-child::after {align-self: flex-start;width: 50%;}#sk-container-id-1 div.sk-parallel-item:only-child::after {width: 0;}#sk-container-id-1 div.sk-dashed-wrapped {border: 1px dashed gray;margin: 0 0.4em 0.5em 0.4em;box-sizing: border-box;padding-bottom: 0.4em;background-color: white;}#sk-container-id-1 div.sk-label label {font-family: monospace;font-weight: bold;display: inline-block;line-height: 1.2em;}#sk-container-id-1 div.sk-label-container {text-align: center;}#sk-container-id-1 div.sk-container {/* jupyter's `normalize.less` sets `[hidden] { display: none; }` but bootstrap.min.css set `[hidden] { display: none !important; }` so we also need the `!important` here to be able to override the default hidden behavior on the sphinx rendered scikit-learn.org. See: https://github.com/scikit-learn/scikit-learn/issues/21755 */display: inline-block !important;position: relative;}#sk-container-id-1 div.sk-text-repr-fallback {display: none;}</style><div id=\"sk-container-id-1\" class=\"sk-top-container\"><div class=\"sk-text-repr-fallback\"><pre>RandomForestClassifier()</pre><b>In a Jupyter environment, please rerun this cell to show the HTML representation or trust the notebook. <br />On GitHub, the HTML representation is unable to render, please try loading this page with nbviewer.org.</b></div><div class=\"sk-container\" hidden><div class=\"sk-item\"><div class=\"sk-estimator sk-toggleable\"><input class=\"sk-toggleable__control sk-hidden--visually\" id=\"sk-estimator-id-1\" type=\"checkbox\" checked><label for=\"sk-estimator-id-1\" class=\"sk-toggleable__label sk-toggleable__label-arrow\">RandomForestClassifier</label><div class=\"sk-toggleable__content\"><pre>RandomForestClassifier()</pre></div></div></div></div></div>"
      ],
      "text/plain": [
       "RandomForestClassifier()"
      ]
     },
     "execution_count": 33,
     "metadata": {},
     "output_type": "execute_result"
    }
   ],
   "source": [
    "clf=RandomForestClassifier(n_estimators=100)\n",
    "clf.fit(X_train,y_train)"
   ]
  },
  {
   "cell_type": "code",
   "execution_count": 34,
   "id": "8e6f6e56",
   "metadata": {},
   "outputs": [
    {
     "name": "stdout",
     "output_type": "stream",
     "text": [
      "[0 0 0 ... 0 0 0]\n"
     ]
    }
   ],
   "source": [
    "rf_y_pred = clf.predict(X_test)\n",
    "print(rf_y_pred)"
   ]
  },
  {
   "cell_type": "markdown",
   "id": "b0a06e96",
   "metadata": {},
   "source": [
    "## Model Evaluation "
   ]
  },
  {
   "cell_type": "markdown",
   "id": "912f175a",
   "metadata": {},
   "source": [
    "For evaluation of the Random Forest Model, we have used the following reports and metrices.\n",
    "\n",
    "Firstly, we used Confusion Matrix for evaluation of the model. The dimension of this matrix is 2x2 because this model is binary classification. You have two classes 0 and 1. In the output, 3418 and 1028 are actual predictions, and 44 and 10 are incorrect predictions.\n",
    "\n",
    "Next, we have used Accuracy, Precision and Recall scores for model accuracy. Based on the results, the accuracy score is 0.988, precision score is 0.99 and recall score is 0.9589. Cross validation evaluation gives an accuracy score of 0.993 with a standard deviation of 0.002 to the Random Forest model. The model was able to predict 99.3% of the outcomes accurately.\n",
    "\n",
    "Moreover, using the Classification Report, precision score is 0.99 which means that out of all the employees the model predicted would leave, only 99% of them actually left. The recall score, on the other hand, states that out of all the employees that actually left, the model predicted 0.96% of the employees will leave. Overall the F1 score of the model, which is the weighted harmonic mean of precision and recall, is 0.97. Since, its too close to 1, the model has accurately predicted the outcomes of the data and is reliable to use for predictions. \n",
    "\n",
    "Moreover, the AUC score for the decision tree model is 0.99, which means 99% of the area is covered under the AUC-ROC curve as displayed in the plot below. An 99% AUC score states that the model has accuratly predicted almost 99% of the observations and thus the model is fit for use for predictions."
   ]
  },
  {
   "cell_type": "code",
   "execution_count": 35,
   "id": "ea0c5eab",
   "metadata": {
    "scrolled": true
   },
   "outputs": [
    {
     "name": "stdout",
     "output_type": "stream",
     "text": [
      "[[3420    8]\n",
      " [  46 1026]]\n"
     ]
    }
   ],
   "source": [
    "# Confusion Matrix\n",
    "print (metrics.confusion_matrix(y_test, rf_y_pred))"
   ]
  },
  {
   "cell_type": "code",
   "execution_count": 36,
   "id": "c5fc71db",
   "metadata": {},
   "outputs": [
    {
     "name": "stdout",
     "output_type": "stream",
     "text": [
      "Accuracy: 0.988\n",
      "Precision: 0.9922630560928434\n",
      "Recall: 0.957089552238806\n"
     ]
    }
   ],
   "source": [
    "# Model Accuracy, how often is the classifier correct?\n",
    "print(\"Accuracy:\",metrics.accuracy_score(y_test, rf_y_pred))\n",
    "# Model Precision\n",
    "print(\"Precision:\",metrics.precision_score(y_test, rf_y_pred))\n",
    "# Model Recall\n",
    "print(\"Recall:\",metrics.recall_score(y_test, rf_y_pred))"
   ]
  },
  {
   "cell_type": "code",
   "execution_count": 37,
   "id": "9415876a",
   "metadata": {},
   "outputs": [
    {
     "name": "stdout",
     "output_type": "stream",
     "text": [
      "Accuracy: 0.993 (0.002)\n"
     ]
    }
   ],
   "source": [
    "# Cross Validation Score\n",
    "rf_scores = cross_val_score(clf, X, y, scoring='accuracy', cv=cv, n_jobs=-1)\n",
    "print('Accuracy: %.3f (%.3f)' % (mean(rf_scores), std(rf_scores)))"
   ]
  },
  {
   "cell_type": "code",
   "execution_count": 38,
   "id": "96625454",
   "metadata": {
    "scrolled": true
   },
   "outputs": [
    {
     "name": "stdout",
     "output_type": "stream",
     "text": [
      "              precision    recall  f1-score   support\n",
      "\n",
      "           0       0.99      1.00      0.99      3428\n",
      "           1       0.99      0.96      0.97      1072\n",
      "\n",
      "    accuracy                           0.99      4500\n",
      "   macro avg       0.99      0.98      0.98      4500\n",
      "weighted avg       0.99      0.99      0.99      4500\n",
      "\n"
     ]
    }
   ],
   "source": [
    "## Classification Report\n",
    "print (metrics.classification_report(y_test, rf_y_pred))"
   ]
  },
  {
   "cell_type": "code",
   "execution_count": 39,
   "id": "6c073d1b",
   "metadata": {},
   "outputs": [
    {
     "name": "stdout",
     "output_type": "stream",
     "text": [
      "No Skill     : ROC AUC=0.500\n",
      "Random Forest: ROC AUC=0.990\n"
     ]
    },
    {
     "data": {
      "image/png": "[encoded data removed]",
      "text/plain": [
       "<Figure size 432x288 with 1 Axes>"
      ]
     },
     "metadata": {
      "needs_background": "light"
     },
     "output_type": "display_data"
    }
   ],
   "source": [
    "## AUC-ROC Curve ##\n",
    "ns_probs = [0 for _ in range(len(y_test))]\n",
    "rf_probs = clf.predict_proba(X_test)\n",
    "rf_probs = rf_probs[:, 1]\n",
    "# calculate scores\n",
    "ns_auc = roc_auc_score(y_test, ns_probs)\n",
    "rf_auc = roc_auc_score(y_test, rf_probs)\n",
    "# summarize scores\n",
    "print('No Skill     : ROC AUC=%.3f' % (ns_auc))\n",
    "print('Random Forest: ROC AUC=%.3f' % (rf_auc))\n",
    "# calculate roc curves\n",
    "ns_fpr, ns_tpr, _ = roc_curve(y_test, ns_probs)\n",
    "rf_fpr, rf_tpr, _ = roc_curve(y_test, rf_probs)\n",
    "pyplot.plot(ns_fpr, ns_tpr, linestyle='--', label='No Skill')\n",
    "pyplot.plot(rf_fpr, rf_tpr, marker='.', label='Random Forest')\n",
    "# axis labels\n",
    "pyplot.xlabel('False Positive Rate')\n",
    "pyplot.ylabel('True Positive Rate')\n",
    "# show the legend\n",
    "pyplot.legend()\n",
    "# show the plot\n",
    "pyplot.show()"
   ]
  },
  {
   "cell_type": "markdown",
   "id": "12035474",
   "metadata": {},
   "source": [
    "## Gaussian Naive Bayes Classifier Model"
   ]
  },
  {
   "cell_type": "markdown",
   "id": "463616b9",
   "metadata": {},
   "source": [
    "Next we have built a Naive Bayes model to predict whether employees will leave or stay in the company. It is a probabilistic classifier, which means it predicts on the basis of the probability of an object. Among the different types of Naive Bayes models, we have used the Gaussian Naive Bayes model. The Gaussian model assumes that features follow a normal distribution. This means if predictors take continuous values instead of discrete, then the model assumes that these values are sampled from the Gaussian distribution.\n",
    "\n",
    "To begin with the model, we first built the model by fitting it into the train data set. Then, the trained model was fit into the test data set to predict the outcome of the model. The variable 'pred_GNB' shows the predicted outcomes of the model."
   ]
  },
  {
   "cell_type": "code",
   "execution_count": 40,
   "id": "7b311bac",
   "metadata": {},
   "outputs": [],
   "source": [
    "#Import Gaussian Naive Bayes model\n",
    "from sklearn.naive_bayes import GaussianNB"
   ]
  },
  {
   "cell_type": "code",
   "execution_count": 41,
   "id": "9af9daf1",
   "metadata": {},
   "outputs": [],
   "source": [
    "#Create a Gaussian Classifier\n",
    "GaussianNB = GaussianNB()"
   ]
  },
  {
   "cell_type": "code",
   "execution_count": 42,
   "id": "c5a67792",
   "metadata": {},
   "outputs": [
    {
     "data": {
      "text/html": [
       "<style>#sk-container-id-2 {color: black;background-color: white;}#sk-container-id-2 pre{padding: 0;}#sk-container-id-2 div.sk-toggleable {background-color: white;}#sk-container-id-2 label.sk-toggleable__label {cursor: pointer;display: block;width: 100%;margin-bottom: 0;padding: 0.3em;box-sizing: border-box;text-align: center;}#sk-container-id-2 label.sk-toggleable__label-arrow:before {content: \"▸\";float: left;margin-right: 0.25em;color: #696969;}#sk-container-id-2 label.sk-toggleable__label-arrow:hover:before {color: black;}#sk-container-id-2 div.sk-estimator:hover label.sk-toggleable__label-arrow:before {color: black;}#sk-container-id-2 div.sk-toggleable__content {max-height: 0;max-width: 0;overflow: hidden;text-align: left;background-color: #f0f8ff;}#sk-container-id-2 div.sk-toggleable__content pre {margin: 0.2em;color: black;border-radius: 0.25em;background-color: #f0f8ff;}#sk-container-id-2 input.sk-toggleable__control:checked~div.sk-toggleable__content {max-height: 200px;max-width: 100%;overflow: auto;}#sk-container-id-2 input.sk-toggleable__control:checked~label.sk-toggleable__label-arrow:before {content: \"▾\";}#sk-container-id-2 div.sk-estimator input.sk-toggleable__control:checked~label.sk-toggleable__label {background-color: #d4ebff;}#sk-container-id-2 div.sk-label input.sk-toggleable__control:checked~label.sk-toggleable__label {background-color: #d4ebff;}#sk-container-id-2 input.sk-hidden--visually {border: 0;clip: rect(1px 1px 1px 1px);clip: rect(1px, 1px, 1px, 1px);height: 1px;margin: -1px;overflow: hidden;padding: 0;position: absolute;width: 1px;}#sk-container-id-2 div.sk-estimator {font-family: monospace;background-color: #f0f8ff;border: 1px dotted black;border-radius: 0.25em;box-sizing: border-box;margin-bottom: 0.5em;}#sk-container-id-2 div.sk-estimator:hover {background-color: #d4ebff;}#sk-container-id-2 div.sk-parallel-item::after {content: \"\";width: 100%;border-bottom: 1px solid gray;flex-grow: 1;}#sk-container-id-2 div.sk-label:hover label.sk-toggleable__label {background-color: #d4ebff;}#sk-container-id-2 div.sk-serial::before {content: \"\";position: absolute;border-left: 1px solid gray;box-sizing: border-box;top: 0;bottom: 0;left: 50%;z-index: 0;}#sk-container-id-2 div.sk-serial {display: flex;flex-direction: column;align-items: center;background-color: white;padding-right: 0.2em;padding-left: 0.2em;position: relative;}#sk-container-id-2 div.sk-item {position: relative;z-index: 1;}#sk-container-id-2 div.sk-parallel {display: flex;align-items: stretch;justify-content: center;background-color: white;position: relative;}#sk-container-id-2 div.sk-item::before, #sk-container-id-2 div.sk-parallel-item::before {content: \"\";position: absolute;border-left: 1px solid gray;box-sizing: border-box;top: 0;bottom: 0;left: 50%;z-index: -1;}#sk-container-id-2 div.sk-parallel-item {display: flex;flex-direction: column;z-index: 1;position: relative;background-color: white;}#sk-container-id-2 div.sk-parallel-item:first-child::after {align-self: flex-end;width: 50%;}#sk-container-id-2 div.sk-parallel-item:last-child::after {align-self: flex-start;width: 50%;}#sk-container-id-2 div.sk-parallel-item:only-child::after {width: 0;}#sk-container-id-2 div.sk-dashed-wrapped {border: 1px dashed gray;margin: 0 0.4em 0.5em 0.4em;box-sizing: border-box;padding-bottom: 0.4em;background-color: white;}#sk-container-id-2 div.sk-label label {font-family: monospace;font-weight: bold;display: inline-block;line-height: 1.2em;}#sk-container-id-2 div.sk-label-container {text-align: center;}#sk-container-id-2 div.sk-container {/* jupyter's `normalize.less` sets `[hidden] { display: none; }` but bootstrap.min.css set `[hidden] { display: none !important; }` so we also need the `!important` here to be able to override the default hidden behavior on the sphinx rendered scikit-learn.org. See: https://github.com/scikit-learn/scikit-learn/issues/21755 */display: inline-block !important;position: relative;}#sk-container-id-2 div.sk-text-repr-fallback {display: none;}</style><div id=\"sk-container-id-2\" class=\"sk-top-container\"><div class=\"sk-text-repr-fallback\"><pre>GaussianNB()</pre><b>In a Jupyter environment, please rerun this cell to show the HTML representation or trust the notebook. <br />On GitHub, the HTML representation is unable to render, please try loading this page with nbviewer.org.</b></div><div class=\"sk-container\" hidden><div class=\"sk-item\"><div class=\"sk-estimator sk-toggleable\"><input class=\"sk-toggleable__control sk-hidden--visually\" id=\"sk-estimator-id-2\" type=\"checkbox\" checked><label for=\"sk-estimator-id-2\" class=\"sk-toggleable__label sk-toggleable__label-arrow\">GaussianNB</label><div class=\"sk-toggleable__content\"><pre>GaussianNB()</pre></div></div></div></div></div>"
      ],
      "text/plain": [
       "GaussianNB()"
      ]
     },
     "execution_count": 42,
     "metadata": {},
     "output_type": "execute_result"
    }
   ],
   "source": [
    "# Train the model using the training sets\n",
    "GaussianNB.fit(X_train, y_train)"
   ]
  },
  {
   "cell_type": "code",
   "execution_count": 43,
   "id": "b43d7e83",
   "metadata": {},
   "outputs": [
    {
     "name": "stdout",
     "output_type": "stream",
     "text": [
      "[0 0 0 ... 0 0 0]\n"
     ]
    }
   ],
   "source": [
    "#Predict Output\n",
    "pred_GNB= GaussianNB.predict(X_test) # 0:Overcast, 2:Mild\n",
    "print(pred_GNB)"
   ]
  },
  {
   "cell_type": "markdown",
   "id": "828c0d78",
   "metadata": {},
   "source": [
    "## Model Evaluation"
   ]
  },
  {
   "cell_type": "markdown",
   "id": "f2882c42",
   "metadata": {},
   "source": [
    "For evaluation of the Naive Bayes Model, we have used the following reports and metrices.\n",
    "\n",
    "Firstly, we used Confusion Matrix for evaluation of the model. The dimension of this matrix is 2x2 because this model is binary classification. You have two classes 0 and 1. In the output, 2831 and 765 are actual predictions, and 597 and 307 are incorrect predictions.\n",
    "\n",
    "Next, we have used Accuracy, Precision and Recall scores for model accuracy. Based on the results, the accuracy score is 0.799, precision score is 0.56 and recall score is 0.713. Cross validation evaluation gives an accuracy score of 0.796 with a standard deviation of 0.012 to the Gaussian Naive Bayes model. The model was able to predict 79.6% of the outcomes accurately.\n",
    "\n",
    "Moreover, using the Classification Report, precision score is 0.56 which means that out of all the employees the model predicted would leave, only 56% of them actually left. The recall score, on the other hand, states that out of all the employees that actually left, the model predicted 71% of the employees will leave. Overall the F1 score of the model, which is the weighted harmonic mean of precision and recall, is 0.63.\n",
    "\n",
    "Moreover, the AUC score for the decision tree model is 0.845, which means 84.5% of the area is covered under the AUC-ROC curve as displayed in the plot below. An 84.5% AUC score states that the model has accuratly predicted almost 0.845% of the observations and thus the model is fit for use for predictions."
   ]
  },
  {
   "cell_type": "code",
   "execution_count": 44,
   "id": "10d3d108",
   "metadata": {
    "scrolled": true
   },
   "outputs": [
    {
     "name": "stdout",
     "output_type": "stream",
     "text": [
      "[[2831  597]\n",
      " [ 307  765]]\n"
     ]
    }
   ],
   "source": [
    "# Confusion Matrix\n",
    "print (metrics.confusion_matrix(y_test, pred_GNB))"
   ]
  },
  {
   "cell_type": "code",
   "execution_count": 45,
   "id": "526dcb03",
   "metadata": {},
   "outputs": [
    {
     "name": "stdout",
     "output_type": "stream",
     "text": [
      "Accuracy: 0.7991111111111111\n",
      "Precision: 0.5616740088105727\n",
      "Recall: 0.7136194029850746\n"
     ]
    }
   ],
   "source": [
    "# Model Accuracy, how often is the classifier correct?\n",
    "print(\"Accuracy:\",metrics.accuracy_score(y_test, pred_GNB))\n",
    "# Model Precision\n",
    "print(\"Precision:\",metrics.precision_score(y_test, pred_GNB))\n",
    "# Model Recall\n",
    "print(\"Recall:\",metrics.recall_score(y_test, pred_GNB))"
   ]
  },
  {
   "cell_type": "code",
   "execution_count": 46,
   "id": "db1c5b2d",
   "metadata": {},
   "outputs": [
    {
     "name": "stdout",
     "output_type": "stream",
     "text": [
      "Accuracy: 0.796 (0.012)\n"
     ]
    }
   ],
   "source": [
    "# Cross Validation Score\n",
    "GNB_scores = cross_val_score(GaussianNB, X, y, scoring='accuracy', cv=cv, n_jobs=-1)\n",
    "print('Accuracy: %.3f (%.3f)' % (mean(GNB_scores), std(GNB_scores)))"
   ]
  },
  {
   "cell_type": "code",
   "execution_count": 47,
   "id": "9889f8f4",
   "metadata": {},
   "outputs": [
    {
     "name": "stdout",
     "output_type": "stream",
     "text": [
      "              precision    recall  f1-score   support\n",
      "\n",
      "           0       0.90      0.83      0.86      3428\n",
      "           1       0.56      0.71      0.63      1072\n",
      "\n",
      "    accuracy                           0.80      4500\n",
      "   macro avg       0.73      0.77      0.75      4500\n",
      "weighted avg       0.82      0.80      0.81      4500\n",
      "\n"
     ]
    }
   ],
   "source": [
    "# Classification Report\n",
    "print (metrics.classification_report(y_test, pred_GNB))"
   ]
  },
  {
   "cell_type": "code",
   "execution_count": 48,
   "id": "a1476267",
   "metadata": {
    "scrolled": true
   },
   "outputs": [
    {
     "name": "stdout",
     "output_type": "stream",
     "text": [
      "No Skill: ROC AUC=0.500\n",
      "Gaussian Naive Bayes: ROC AUC=0.845\n"
     ]
    },
    {
     "data": {
      "image/png": "[encoded data removed]",
      "text/plain": [
       "<Figure size 432x288 with 1 Axes>"
      ]
     },
     "metadata": {
      "needs_background": "light"
     },
     "output_type": "display_data"
    }
   ],
   "source": [
    "## AUC-ROC Curve ##\n",
    "ns_probs = [0 for _ in range(len(y_test))]\n",
    "gnb_probs = GaussianNB.predict_proba(X_test)\n",
    "gnb_probs = gnb_probs[:, 1]\n",
    "# calculate scores\n",
    "ns_auc = roc_auc_score(y_test, ns_probs)\n",
    "gnb_auc = roc_auc_score(y_test, gnb_probs)\n",
    "# summarize scores\n",
    "print('No Skill: ROC AUC=%.3f' % (ns_auc))\n",
    "print('Gaussian Naive Bayes: ROC AUC=%.3f' % (gnb_auc))\n",
    "# calculate roc curves\n",
    "ns_fpr, ns_tpr, _ = roc_curve(y_test, ns_probs)\n",
    "gnb_fpr, gnb_tpr, _ = roc_curve(y_test, gnb_probs)\n",
    "pyplot.plot(ns_fpr, ns_tpr, linestyle='--', label='No Skill')\n",
    "pyplot.plot(gnb_fpr, gnb_tpr, marker='.', label='Gaussian Naive Bayes')\n",
    "# axis labels\n",
    "pyplot.xlabel('False Positive Rate')\n",
    "pyplot.ylabel('True Positive Rate')\n",
    "# show the legend\n",
    "pyplot.legend()\n",
    "# show the plot\n",
    "pyplot.show()"
   ]
  },
  {
   "cell_type": "markdown",
   "id": "253b1a9d",
   "metadata": {},
   "source": [
    "# LEARNING CURVES"
   ]
  },
  {
   "cell_type": "markdown",
   "id": "40a0f8b7",
   "metadata": {},
   "source": [
    "## Logistic Regression "
   ]
  },
  {
   "cell_type": "code",
   "execution_count": 49,
   "id": "7001d057",
   "metadata": {},
   "outputs": [],
   "source": [
    "from sklearn.model_selection import learning_curve"
   ]
  },
  {
   "cell_type": "code",
   "execution_count": 50,
   "id": "9ff7f778",
   "metadata": {},
   "outputs": [],
   "source": [
    "train_size, train_score, test_score = learning_curve(estimator=logistic_model, X=X, y=y, cv=cv, \n",
    "                                                     scoring=\"neg_root_mean_squared_error\")"
   ]
  },
  {
   "cell_type": "code",
   "execution_count": 51,
   "id": "d43fb4e0",
   "metadata": {},
   "outputs": [
    {
     "data": {
      "image/png": "[encoded data removed]",
      "text/plain": [
       "<Figure size 432x288 with 1 Axes>"
      ]
     },
     "metadata": {
      "needs_background": "light"
     },
     "output_type": "display_data"
    }
   ],
   "source": [
    "train_score_m = -train_score.mean(axis=1)\n",
    "test_score_m = -test_score.mean(axis=1)\n",
    "\n",
    "plt.plot(train_size, train_score_m, 'o-', color=\"b\")\n",
    "plt.plot(train_size, test_score_m, 'o-', color=\"r\")\n",
    "plt.legend(('Training score', 'Test score'), loc='best')\n",
    "plt.xlabel(\"Training Samples\")\n",
    "plt.ylabel(\"Error\")\n",
    "plt.title(\"Learning Curve for Logistic Regression\")\n",
    "plt.grid()\n",
    "\n",
    "plt.show()"
   ]
  },
  {
   "cell_type": "markdown",
   "id": "5426076c",
   "metadata": {},
   "source": [
    "## Random Forest"
   ]
  },
  {
   "cell_type": "code",
   "execution_count": 52,
   "id": "cd5da9c9",
   "metadata": {},
   "outputs": [],
   "source": [
    "train_size, train_score, test_score = learning_curve(estimator=clf, X=X, y=y, cv=cv, scoring=\"neg_root_mean_squared_error\")"
   ]
  },
  {
   "cell_type": "code",
   "execution_count": 53,
   "id": "e31f1d24",
   "metadata": {},
   "outputs": [
    {
     "data": {
      "image/png": "[encoded data removed]",
      "text/plain": [
       "<Figure size 432x288 with 1 Axes>"
      ]
     },
     "metadata": {
      "needs_background": "light"
     },
     "output_type": "display_data"
    }
   ],
   "source": [
    "train_score_m = -train_score.mean(axis=1)\n",
    "test_score_m = -test_score.mean(axis=1)\n",
    "\n",
    "plt.plot(train_size, train_score_m, 'o-', color=\"b\")\n",
    "plt.plot(train_size, test_score_m, 'o-', color=\"r\")\n",
    "plt.legend(('Training score', 'Test score'), loc='best')\n",
    "plt.xlabel(\"Training Samples\")\n",
    "plt.ylabel(\"Error\")\n",
    "plt.title(\"Learning Curve for Random Forest Classifier\")\n",
    "plt.grid()\n",
    "\n",
    "plt.show()"
   ]
  },
  {
   "cell_type": "markdown",
   "id": "e5c9e256",
   "metadata": {},
   "source": [
    "## Gaussian Naive Bayes "
   ]
  },
  {
   "cell_type": "code",
   "execution_count": 54,
   "id": "746e6fa5",
   "metadata": {},
   "outputs": [],
   "source": [
    "train_size, train_score, test_score = learning_curve(estimator=GaussianNB, X=X, y=y, cv=10, scoring=\"neg_root_mean_squared_error\")"
   ]
  },
  {
   "cell_type": "code",
   "execution_count": 55,
   "id": "b1017998",
   "metadata": {},
   "outputs": [
    {
     "data": {
      "image/png": "[encoded data removed]",
      "text/plain": [
       "<Figure size 432x288 with 1 Axes>"
      ]
     },
     "metadata": {
      "needs_background": "light"
     },
     "output_type": "display_data"
    }
   ],
   "source": [
    "train_score_m = -train_score.mean(axis=1)\n",
    "test_score_m = -test_score.mean(axis=1)\n",
    "\n",
    "plt.plot(train_size, train_score_m, 'o-', color=\"b\")\n",
    "plt.plot(train_size, test_score_m, 'o-', color=\"r\")\n",
    "plt.legend(('Training score', 'Test score'), loc='best')\n",
    "plt.xlabel(\"Training Samples\")\n",
    "plt.ylabel(\"Error\")\n",
    "plt.title(\"Learning Curve for Gaussian Naive Bayes Classifier\")\n",
    "plt.grid()\n",
    "plt.show()"
   ]
  },
  {
   "cell_type": "markdown",
   "id": "edb75437",
   "metadata": {},
   "source": [
    "## Analysis of Learning Curves of the Models"
   ]
  },
  {
   "cell_type": "markdown",
   "id": "219798c2",
   "metadata": {},
   "source": [
    "With respect to the learning curve built for the logistic regression model, as the instances increase, the error for training and test sets increases. This indicates that adding more examples to the model will not improve the model, rather the chances for error increases. \n",
    "\n",
    "On the other hand, in the random forest model, bias is added to the model by creating several diverse models and combining their predictions. Even though, the training error is constant at almost to 0 despite the increase in training samples, the huge gape between test and training score narrows down as test score approaches 0 with the increase in samples. \n",
    "\n",
    "For the Gaussian Naive Bayes model, it can be observed that the error is reduced in the validation data. However, it came at the cost of the training data, as we can observe the error increases. Moreover, both the curves are stable beyond 4000 samples which implies that adding more instances may not improve this model much further."
   ]
  },
  {
   "cell_type": "markdown",
   "id": "90bb4bdb",
   "metadata": {},
   "source": [
    "# FINAL MODEL "
   ]
  },
  {
   "cell_type": "markdown",
   "id": "a567f854",
   "metadata": {},
   "source": [
    "## Comparison Between the Different Models"
   ]
  },
  {
   "cell_type": "markdown",
   "id": "261bb67d",
   "metadata": {},
   "source": [
    "Comparing the three machine learning models, the precision and recall score Random Forest is the highest where the precision score is 0.99, whereas the recall score is 0.96. This is it does not suffer from the overfitting problem. The main reason is that it takes the average of all the predictions, which cancels out the biases. Moreover, the learning curve indicates a more accurate curve with errors reduced to approximately zero. Since, random forest provides with a better predictive performance we have chosen Random Forest Model as our final model."
   ]
  },
  {
   "cell_type": "markdown",
   "id": "b2157347",
   "metadata": {},
   "source": [
    "## Final Model"
   ]
  },
  {
   "cell_type": "markdown",
   "id": "21f68119",
   "metadata": {},
   "source": [
    "To optimize the model and improve the F1 score of the classification report, the model's training and test split ration was increased to 80:20. This is necessary as to improve the precision and recall scores of the model, as precision model indicates the percentage of results that were actuall true from the predicted results, whereas recall score indictates the percentage of results that were predicted correctly from the actual results. This would further improve the F1 score of the model making it a more accurate machine learning model. \n",
    "\n",
    "By changing the ration to 80:20, eventhough, precision score remains the same, recall scores improves and the F1 score improves to 0.98 thus making the model predict more accurate results."
   ]
  },
  {
   "cell_type": "code",
   "execution_count": 56,
   "id": "48bee4ed",
   "metadata": {},
   "outputs": [],
   "source": [
    "# Split dataset into training set and test set\n",
    "X_train, X_test, y_train, y_test = train_test_split(X, y, test_size=0.20, random_state=42)  "
   ]
  },
  {
   "cell_type": "code",
   "execution_count": 57,
   "id": "661f2fce",
   "metadata": {},
   "outputs": [],
   "source": [
    "from sklearn.ensemble import RandomForestClassifier"
   ]
  },
  {
   "cell_type": "code",
   "execution_count": 58,
   "id": "c1a90e55",
   "metadata": {},
   "outputs": [
    {
     "data": {
      "text/html": [
       "<style>#sk-container-id-3 {color: black;background-color: white;}#sk-container-id-3 pre{padding: 0;}#sk-container-id-3 div.sk-toggleable {background-color: white;}#sk-container-id-3 label.sk-toggleable__label {cursor: pointer;display: block;width: 100%;margin-bottom: 0;padding: 0.3em;box-sizing: border-box;text-align: center;}#sk-container-id-3 label.sk-toggleable__label-arrow:before {content: \"▸\";float: left;margin-right: 0.25em;color: #696969;}#sk-container-id-3 label.sk-toggleable__label-arrow:hover:before {color: black;}#sk-container-id-3 div.sk-estimator:hover label.sk-toggleable__label-arrow:before {color: black;}#sk-container-id-3 div.sk-toggleable__content {max-height: 0;max-width: 0;overflow: hidden;text-align: left;background-color: #f0f8ff;}#sk-container-id-3 div.sk-toggleable__content pre {margin: 0.2em;color: black;border-radius: 0.25em;background-color: #f0f8ff;}#sk-container-id-3 input.sk-toggleable__control:checked~div.sk-toggleable__content {max-height: 200px;max-width: 100%;overflow: auto;}#sk-container-id-3 input.sk-toggleable__control:checked~label.sk-toggleable__label-arrow:before {content: \"▾\";}#sk-container-id-3 div.sk-estimator input.sk-toggleable__control:checked~label.sk-toggleable__label {background-color: #d4ebff;}#sk-container-id-3 div.sk-label input.sk-toggleable__control:checked~label.sk-toggleable__label {background-color: #d4ebff;}#sk-container-id-3 input.sk-hidden--visually {border: 0;clip: rect(1px 1px 1px 1px);clip: rect(1px, 1px, 1px, 1px);height: 1px;margin: -1px;overflow: hidden;padding: 0;position: absolute;width: 1px;}#sk-container-id-3 div.sk-estimator {font-family: monospace;background-color: #f0f8ff;border: 1px dotted black;border-radius: 0.25em;box-sizing: border-box;margin-bottom: 0.5em;}#sk-container-id-3 div.sk-estimator:hover {background-color: #d4ebff;}#sk-container-id-3 div.sk-parallel-item::after {content: \"\";width: 100%;border-bottom: 1px solid gray;flex-grow: 1;}#sk-container-id-3 div.sk-label:hover label.sk-toggleable__label {background-color: #d4ebff;}#sk-container-id-3 div.sk-serial::before {content: \"\";position: absolute;border-left: 1px solid gray;box-sizing: border-box;top: 0;bottom: 0;left: 50%;z-index: 0;}#sk-container-id-3 div.sk-serial {display: flex;flex-direction: column;align-items: center;background-color: white;padding-right: 0.2em;padding-left: 0.2em;position: relative;}#sk-container-id-3 div.sk-item {position: relative;z-index: 1;}#sk-container-id-3 div.sk-parallel {display: flex;align-items: stretch;justify-content: center;background-color: white;position: relative;}#sk-container-id-3 div.sk-item::before, #sk-container-id-3 div.sk-parallel-item::before {content: \"\";position: absolute;border-left: 1px solid gray;box-sizing: border-box;top: 0;bottom: 0;left: 50%;z-index: -1;}#sk-container-id-3 div.sk-parallel-item {display: flex;flex-direction: column;z-index: 1;position: relative;background-color: white;}#sk-container-id-3 div.sk-parallel-item:first-child::after {align-self: flex-end;width: 50%;}#sk-container-id-3 div.sk-parallel-item:last-child::after {align-self: flex-start;width: 50%;}#sk-container-id-3 div.sk-parallel-item:only-child::after {width: 0;}#sk-container-id-3 div.sk-dashed-wrapped {border: 1px dashed gray;margin: 0 0.4em 0.5em 0.4em;box-sizing: border-box;padding-bottom: 0.4em;background-color: white;}#sk-container-id-3 div.sk-label label {font-family: monospace;font-weight: bold;display: inline-block;line-height: 1.2em;}#sk-container-id-3 div.sk-label-container {text-align: center;}#sk-container-id-3 div.sk-container {/* jupyter's `normalize.less` sets `[hidden] { display: none; }` but bootstrap.min.css set `[hidden] { display: none !important; }` so we also need the `!important` here to be able to override the default hidden behavior on the sphinx rendered scikit-learn.org. See: https://github.com/scikit-learn/scikit-learn/issues/21755 */display: inline-block !important;position: relative;}#sk-container-id-3 div.sk-text-repr-fallback {display: none;}</style><div id=\"sk-container-id-3\" class=\"sk-top-container\"><div class=\"sk-text-repr-fallback\"><pre>RandomForestClassifier()</pre><b>In a Jupyter environment, please rerun this cell to show the HTML representation or trust the notebook. <br />On GitHub, the HTML representation is unable to render, please try loading this page with nbviewer.org.</b></div><div class=\"sk-container\" hidden><div class=\"sk-item\"><div class=\"sk-estimator sk-toggleable\"><input class=\"sk-toggleable__control sk-hidden--visually\" id=\"sk-estimator-id-3\" type=\"checkbox\" checked><label for=\"sk-estimator-id-3\" class=\"sk-toggleable__label sk-toggleable__label-arrow\">RandomForestClassifier</label><div class=\"sk-toggleable__content\"><pre>RandomForestClassifier()</pre></div></div></div></div></div>"
      ],
      "text/plain": [
       "RandomForestClassifier()"
      ]
     },
     "execution_count": 58,
     "metadata": {},
     "output_type": "execute_result"
    }
   ],
   "source": [
    "clf=RandomForestClassifier(n_estimators=100)\n",
    "clf.fit(X_train,y_train)"
   ]
  },
  {
   "cell_type": "code",
   "execution_count": 59,
   "id": "eb920a9e",
   "metadata": {},
   "outputs": [
    {
     "data": {
      "text/plain": [
       "array([0, 0, 0, ..., 0, 0, 1], dtype=int64)"
      ]
     },
     "execution_count": 59,
     "metadata": {},
     "output_type": "execute_result"
    }
   ],
   "source": [
    "rf_y_pred = clf.predict(X_test)\n",
    "rf_y_pred"
   ]
  },
  {
   "cell_type": "code",
   "execution_count": 60,
   "id": "960da820",
   "metadata": {
    "scrolled": true
   },
   "outputs": [
    {
     "name": "stdout",
     "output_type": "stream",
     "text": [
      "[[2287    7]\n",
      " [  26  680]]\n"
     ]
    }
   ],
   "source": [
    "# Confusion Matrix\n",
    "print(metrics.confusion_matrix(y_test, rf_y_pred))"
   ]
  },
  {
   "cell_type": "code",
   "execution_count": 61,
   "id": "bc1e395a",
   "metadata": {},
   "outputs": [
    {
     "name": "stdout",
     "output_type": "stream",
     "text": [
      "Accuracy: 0.989\n",
      "Precision: 0.9898107714701602\n",
      "Recall: 0.9631728045325779\n"
     ]
    }
   ],
   "source": [
    "# Model Accuracy, how often is the classifier correct?\n",
    "print(\"Accuracy:\",metrics.accuracy_score(y_test, rf_y_pred))\n",
    "# Model Precision\n",
    "print(\"Precision:\",metrics.precision_score(y_test, rf_y_pred))\n",
    "# Model Recall\n",
    "print(\"Recall:\",metrics.recall_score(y_test, rf_y_pred))"
   ]
  },
  {
   "cell_type": "code",
   "execution_count": 62,
   "id": "0df43590",
   "metadata": {},
   "outputs": [
    {
     "name": "stdout",
     "output_type": "stream",
     "text": [
      "Accuracy: 0.993 (0.002)\n"
     ]
    }
   ],
   "source": [
    "# Cross Validation Score\n",
    "rf_scores = cross_val_score(clf, X, y, scoring='accuracy', cv=cv, n_jobs=-1)\n",
    "print('Accuracy: %.3f (%.3f)' % (mean(rf_scores), std(rf_scores)))"
   ]
  },
  {
   "cell_type": "code",
   "execution_count": 63,
   "id": "7ccb0ca1",
   "metadata": {
    "scrolled": true
   },
   "outputs": [
    {
     "name": "stdout",
     "output_type": "stream",
     "text": [
      "              precision    recall  f1-score   support\n",
      "\n",
      "           0       0.99      1.00      0.99      2294\n",
      "           1       0.99      0.96      0.98       706\n",
      "\n",
      "    accuracy                           0.99      3000\n",
      "   macro avg       0.99      0.98      0.98      3000\n",
      "weighted avg       0.99      0.99      0.99      3000\n",
      "\n"
     ]
    }
   ],
   "source": [
    "## Classification Report\n",
    "print (metrics.classification_report(y_test, rf_y_pred))"
   ]
  },
  {
   "cell_type": "code",
   "execution_count": 64,
   "id": "cc1698a1",
   "metadata": {},
   "outputs": [
    {
     "name": "stdout",
     "output_type": "stream",
     "text": [
      "No Skill     : ROC AUC=0.500\n",
      "Random Forest: ROC AUC=0.991\n"
     ]
    },
    {
     "data": {
      "image/png": "[encoded data removed]",
      "text/plain": [
       "<Figure size 432x288 with 1 Axes>"
      ]
     },
     "metadata": {
      "needs_background": "light"
     },
     "output_type": "display_data"
    }
   ],
   "source": [
    "## AUC-ROC Curve ##\n",
    "ns_probs = [0 for _ in range(len(y_test))]\n",
    "rf_probs = clf.predict_proba(X_test)\n",
    "rf_probs = rf_probs[:, 1]\n",
    "# calculate scores\n",
    "ns_auc = roc_auc_score(y_test, ns_probs)\n",
    "rf_auc = roc_auc_score(y_test, rf_probs)\n",
    "# summarize scores\n",
    "print('No Skill     : ROC AUC=%.3f' % (ns_auc))\n",
    "print('Random Forest: ROC AUC=%.3f' % (rf_auc))\n",
    "# calculate roc curves\n",
    "ns_fpr, ns_tpr, _ = roc_curve(y_test, ns_probs)\n",
    "rf_fpr, rf_tpr, _ = roc_curve(y_test, rf_probs)\n",
    "pyplot.plot(ns_fpr, ns_tpr, linestyle='--', label='No Skill')\n",
    "pyplot.plot(rf_fpr, rf_tpr, marker='.', label='Random Forest')\n",
    "# axis labels\n",
    "pyplot.xlabel('False Positive Rate')\n",
    "pyplot.ylabel('True Positive Rate')\n",
    "# show the legend\n",
    "pyplot.legend()\n",
    "# show the plot\n",
    "pyplot.show()"
   ]
  },
  {
   "cell_type": "markdown",
   "id": "d821a145",
   "metadata": {},
   "source": [
    "## Precision - Recall Curve -  Random Forest"
   ]
  },
  {
   "cell_type": "markdown",
   "id": "c892a253",
   "metadata": {},
   "source": [
    "The precision-recall curve of the final model gives us a shape where at thresholds with low recall, the precision is correspondingly high, and at very high recall, the precision begins to drop. "
   ]
  },
  {
   "cell_type": "code",
   "execution_count": 65,
   "id": "74452899",
   "metadata": {},
   "outputs": [],
   "source": [
    "from sklearn.metrics import precision_recall_curve"
   ]
  },
  {
   "cell_type": "code",
   "execution_count": 66,
   "id": "9f35ca46",
   "metadata": {},
   "outputs": [
    {
     "data": {
      "text/plain": [
       "array([0.  , 0.  , 0.  , ..., 0.02, 0.18, 0.89])"
      ]
     },
     "execution_count": 66,
     "metadata": {},
     "output_type": "execute_result"
    }
   ],
   "source": [
    "rf_probs = clf.predict_proba(X_test)[:, 1]\n",
    "rf_probs"
   ]
  },
  {
   "cell_type": "code",
   "execution_count": 67,
   "id": "77c8c95e",
   "metadata": {},
   "outputs": [],
   "source": [
    "#calculate precision and recall\n",
    "precision, recall, thresholds = precision_recall_curve(y_test, rf_probs)"
   ]
  },
  {
   "cell_type": "code",
   "execution_count": 68,
   "id": "902416e5",
   "metadata": {},
   "outputs": [
    {
     "data": {
      "image/png": "[encoded data removed]",
      "text/plain": [
       "<Figure size 432x288 with 1 Axes>"
      ]
     },
     "metadata": {
      "needs_background": "light"
     },
     "output_type": "display_data"
    }
   ],
   "source": [
    "#create precision recall curve\n",
    "fig, ax = plt.subplots()\n",
    "ax.plot(recall, precision, color='purple')\n",
    "\n",
    "#add axis labels to plot\n",
    "ax.set_title('Precision-Recall Curve')\n",
    "ax.set_ylabel('Precision')\n",
    "ax.set_xlabel('Recall')\n",
    "\n",
    "#display plot\n",
    "plt.show()"
   ]
  },
  {
   "cell_type": "markdown",
   "id": "74f8a661",
   "metadata": {},
   "source": [
    "# Top 10 Features That Were Most Significant - Ranking"
   ]
  },
  {
   "cell_type": "markdown",
   "id": "e27a1641",
   "metadata": {},
   "source": [
    "## Extra Trees Classifier"
   ]
  },
  {
   "cell_type": "markdown",
   "id": "4aa54bb8",
   "metadata": {},
   "source": [
    "Feature Selection is one of the core concepts in machine learning which hugely impacts the performance of your model. The data features that you use to train your machine learning models have a huge influence on the performance you can achieve. To determine the top features based on their importance  to the model, we have used Extra Tree Classifier algorithm. Extra Tree Classifier gives a score for each feature depending on their importance to the data or the model. The higher the score, the higher the importance.\n",
    "\n"
   ]
  },
  {
   "cell_type": "code",
   "execution_count": 69,
   "id": "c0bce255",
   "metadata": {},
   "outputs": [
    {
     "name": "stdout",
     "output_type": "stream",
     "text": [
      "[0.25528585 0.13490656 0.24713497 0.13183946 0.17556186 0.0161947\n",
      " 0.00240556 0.02044164 0.0162294 ]\n"
     ]
    },
    {
     "data": {
      "image/png": "[encoded data removed]",
      "text/plain": [
       "<Figure size 432x288 with 1 Axes>"
      ]
     },
     "metadata": {
      "needs_background": "light"
     },
     "output_type": "display_data"
    }
   ],
   "source": [
    "from sklearn.ensemble import ExtraTreesClassifier\n",
    "ETC_model = ExtraTreesClassifier()\n",
    "ETC_model.fit(X,y)\n",
    "print(ETC_model.feature_importances_) #use inbuilt class feature_importances of tree based classifiers\n",
    "#plot graph of feature importances for better visualization\n",
    "feat_importances = pd.Series(ETC_model.feature_importances_, index=X.columns)\n",
    "feat_importances.nlargest(10).plot(kind='barh')\n",
    "plt.show()"
   ]
  },
  {
   "cell_type": "markdown",
   "id": "87288229",
   "metadata": {},
   "source": [
    "The bar plot above shows the importance of each feature to the model. The feature 'satisfaction_level' is the most important feature with a score of approximately more than 0.25, whereas the feature 'promotion_last_5years' is the feature with the least importance."
   ]
  },
  {
   "cell_type": "markdown",
   "id": "29292f3f",
   "metadata": {},
   "source": [
    "# DECISION BOUNDARY"
   ]
  },
  {
   "cell_type": "markdown",
   "id": "6517b76e",
   "metadata": {},
   "source": [
    "The Decision Boundary plotted has separated the data-points into regions, which are actually \n",
    "the classes in which they belong.\n",
    "After training a Machine Learning Model using a data-set, it is necessary to visualize the \n",
    "classification of the data-points in Feature Space."
   ]
  },
  {
   "cell_type": "code",
   "execution_count": 70,
   "id": "b3769334",
   "metadata": {},
   "outputs": [
    {
     "data": {
      "image/png": "[encoded data removed]",
      "text/plain": [
       "<Figure size 432x288 with 1 Axes>"
      ]
     },
     "metadata": {
      "needs_background": "light"
     },
     "output_type": "display_data"
    }
   ],
   "source": [
    "import numpy as np\n",
    "from sklearn.datasets import make_blobs\n",
    "from sklearn.linear_model import LogisticRegression\n",
    "\n",
    "X, y = make_blobs(n_samples=1000, centers=2, n_features=2, random_state=1, cluster_std=3)\n",
    "\n",
    "min1, max1 = X[:, 0].min()-1, X[:, 0].max()+1\n",
    "min2, max2 = X[:, 1].min()-1, X[:, 1].max()+1\n",
    "\n",
    "x1grid = np.arange(min1, max1, 0.1)\n",
    "x2grid = np.arange(min2, max2, 0.1)\n",
    "\n",
    "xx, yy = np.meshgrid(x1grid, x2grid)\n",
    "\n",
    "r1, r2 = xx.flatten(), yy.flatten()\n",
    "r1, r2 = r1.reshape((len(r1), 1)), r2.reshape((len(r2), 1))\n",
    "\n",
    "grid = np.hstack((r1,r2))\n",
    "\n",
    "model = clf\n",
    "\n",
    "model.fit(X, y)\n",
    "\n",
    "yhat = model.predict(grid)\n",
    "\n",
    "zz = yhat.reshape(xx.shape)\n",
    "\n",
    "plt.contourf(xx, yy, zz, cmap='Paired')\n",
    "\n",
    "for class_value in range(2):\n",
    "    \n",
    "    row_ix = np.where(y == class_value)\n",
    "    \n",
    "    plt.scatter(X[row_ix, 0], X[row_ix, 1])"
   ]
  },
  {
   "cell_type": "markdown",
   "id": "f08593bb",
   "metadata": {},
   "source": [
    "# RETENTION STRATEGY ACROSS THE ORGANIZATION"
   ]
  },
  {
   "cell_type": "markdown",
   "id": "55369cb7",
   "metadata": {},
   "source": [
    "In order to devise a retention strategy to improve the retention rates of the employees for the \n",
    "organization, we will firstly form clusters by comparing satisfaction vs evaluation through K\u0002Means. For us to form clusters using K-Means, firstly the optimum number of clusters would \n",
    "be calculated using the elbow method to reveal the optimal k. the optimal number of clusters \n",
    "are found to be 3.\n",
    "\n",
    "Now after applying K-Means, three clusters were formed for those who left the company:\n",
    "\n",
    "- Green Cluster: Hard-working and Happy\n",
    "\n",
    "- Blue Cluster: Bad and Sad Employee\n",
    "\n",
    "- Grey Cluster: Hard-working, Sad and Frustrated Employee \n",
    "\n",
    "The Blue Cluster had Satisfaction level below 0.2 and evaluations were greater than 0.75, which could be a good indication that employees who left the company were good workers but felt horrible at their job.\n",
    "\n",
    "What could be the reason for feeling so horrible when you are highly evaluated? Could it be working too hard? Could this cluster mean employees who are “overworked”?\n",
    "\n",
    "The Grey Cluster had Satisfaction level between about 0.35~0.45 and evaluations below ~0.58. This could be seen as employees who were badly evaluated and felt bad at work.\n",
    "\n",
    "Question: Could this cluster mean employees who “under-performed”? \n",
    "\n",
    "The Green Cluster had Satisfaction level between 0.7~1.0 and evaluations were greater than 0.8. Which could mean that employees in this cluster were “ideal”. They loved their work and were evaluated highly for their performance.\n",
    "\n",
    "Question: Could this cluster mean that employees left because they found another job \n",
    "opportunity?\n",
    "\n",
    "The similar was done for those who were currently in the company in order to retain them:\n",
    "\n",
    "Here also Blue cluster represents those who have low satisfaction yet high evaluation, Grey \n",
    "represents those with optimal to high satisfaction yet low evaluation and Green represents \n",
    "those with high evaluation and optimal to high satisfaction.\n",
    "\n",
    "Using the reference from our EDA distribution blot (satisfaction – evaluation – average \n",
    "monthly hours) :\n",
    "\n",
    "- Satisfaction - There is a huge spike for employees with low satisfaction and high satisfaction.\n",
    "- Evaluation - There is a bimodal distrubtion of employees for low evaluations (less than 0.6) \n",
    "and high evaluations (more than 0.8)\n",
    "- AverageMonthlyHours - There is another bimodal distribution of employees with lower and \n",
    "higher average monthly hours (less than 150 hours & more than 250 hours) \n",
    "\n",
    "The evaluation and average monthly hour graphs both share a similar distribution. Employees \n",
    "with lower average monthly hours were evaluated less and vice versa. If you look back at the \n",
    "correlation matrix, the high correlation between evaluation and average Monthly Hours does \n",
    "support this finding. So you had a high evaluation if you had high average monthly hours.\n"
   ]
  },
  {
   "cell_type": "code",
   "execution_count": 71,
   "id": "07fd234f",
   "metadata": {},
   "outputs": [
    {
     "name": "stderr",
     "output_type": "stream",
     "text": [
      "C:\\Users\\lenovo\\anaconda3\\lib\\site-packages\\seaborn\\distributions.py:2619: FutureWarning: `distplot` is a deprecated function and will be removed in a future version. Please adapt your code to use either `displot` (a figure-level function with similar flexibility) or `histplot` (an axes-level function for histograms).\n",
      "  warnings.warn(msg, FutureWarning)\n"
     ]
    },
    {
     "data": {
      "text/plain": [
       "Text(0, 0.5, 'Employee Count')"
      ]
     },
     "execution_count": 71,
     "metadata": {},
     "output_type": "execute_result"
    },
    {
     "data": {
      "image/png": "[encoded data removed]",
      "text/plain": [
       "<Figure size 1080x432 with 3 Axes>"
      ]
     },
     "metadata": {
      "needs_background": "light"
     },
     "output_type": "display_data"
    }
   ],
   "source": [
    "# Set up the matplotlib figure\n",
    "f, axes = plt.subplots(ncols=3, figsize=(15, 6))\n",
    "\n",
    "# Graph Employee Satisfaction\n",
    "sns.distplot(data.satisfaction_level, kde=False, color=\"g\", ax=axes[0]).set_title('Employee Satisfaction Distribution')\n",
    "axes[0].set_ylabel('Employee Count')\n",
    "\n",
    "# Graph Employee Evaluation\n",
    "sns.distplot(data.last_evaluation, kde=False, color=\"r\", ax=axes[1]).set_title('Employee Evaluation Distribution')\n",
    "axes[1].set_ylabel('Employee Count')\n",
    "\n",
    "# Graph Employee Average Monthly Hours\n",
    "sns.distplot(data.average_montly_hours, kde=False, color=\"b\", ax=axes[2]).set_title('Employee Average Monthly Hours Distribution')\n",
    "axes[2].set_ylabel('Employee Count')"
   ]
  },
  {
   "cell_type": "markdown",
   "id": "dbd0d516",
   "metadata": {},
   "source": [
    "Furthermore, if we look at the box plot for project count vs average monthly hours, we notice \n",
    "that employees who did not have a turnover had consistent averageMonthlyHours, despite the \n",
    "increase in projects .In contrast, employees who did have a turnover had an increase in \n",
    "averageMonthlyHours with the increase in projects. Looks like the average employees who \n",
    "stayed worked about 200hours/month. Those that had a turnover worked about \n",
    "250hours/month and 150hours/month. Thus 250hours/month meant over worked and \n",
    "150hours/month were under performed"
   ]
  },
  {
   "cell_type": "markdown",
   "id": "29d11ed3",
   "metadata": {},
   "source": [
    "**Project Count VS Average Monthly Hours**"
   ]
  },
  {
   "cell_type": "code",
   "execution_count": 72,
   "id": "c62d8e74",
   "metadata": {},
   "outputs": [
    {
     "data": {
      "text/plain": [
       "<AxesSubplot:xlabel='number_project', ylabel='average_montly_hours'>"
      ]
     },
     "execution_count": 72,
     "metadata": {},
     "output_type": "execute_result"
    },
    {
     "data": {
      "image/png": "[encoded data removed]",
      "text/plain": [
       "<Figure size 432x288 with 1 Axes>"
      ]
     },
     "metadata": {
      "needs_background": "light"
     },
     "output_type": "display_data"
    }
   ],
   "source": [
    "sns.boxplot(x=\"number_project\", y=\"average_montly_hours\", hue=\"left\", data=data)"
   ]
  },
  {
   "cell_type": "markdown",
   "id": "2940cd0d",
   "metadata": {},
   "source": [
    "To understand the correlation , we turn towards our heat map:\n"
   ]
  },
  {
   "cell_type": "code",
   "execution_count": 73,
   "id": "90a7d666",
   "metadata": {},
   "outputs": [
    {
     "data": {
      "text/plain": [
       "<AxesSubplot:>"
      ]
     },
     "execution_count": 73,
     "metadata": {},
     "output_type": "execute_result"
    },
    {
     "data": {
      "image/png": "[encoded data removed]",
      "text/plain": [
       "<Figure size 432x288 with 2 Axes>"
      ]
     },
     "metadata": {
      "needs_background": "light"
     },
     "output_type": "display_data"
    }
   ],
   "source": [
    "corr = data.corr()\n",
    "sns.heatmap(corr, \n",
    "            xticklabels=corr.columns.values,\n",
    "            yticklabels=corr.columns.values)"
   ]
  },
  {
   "cell_type": "markdown",
   "id": "c568b550",
   "metadata": {},
   "source": [
    "Moderate Positively Correlated Features: \n",
    "- project Count vs evaluation: 0.349333\n",
    "- project Count vs average Monthly Hours: 0.417211 \n",
    "- average Monthly Hours vs evaluation: 0.339742 \n",
    "\n",
    "Moderate Negatively Correlated Feature:\n",
    "- satisfaction vs turnover(left): -0.388375\n",
    "\n",
    "The project count vs evaluation box plotter showed us that:\n",
    "\n",
    "Looks like employees who did not leave the company had an average evaluation of around \n",
    "70% even with different projectCounts . There is a huge skew in employees who had a \n",
    "turnover though. It drastically changes after 3 projectCounts. Employees that had two \n",
    "projects and a horrible evaluation left. Employees with more than 3 projects and super high \n",
    "evaluations left"
   ]
  },
  {
   "cell_type": "code",
   "execution_count": 74,
   "id": "44b33a27",
   "metadata": {},
   "outputs": [
    {
     "data": {
      "text/plain": [
       "<AxesSubplot:xlabel='number_project', ylabel='last_evaluation'>"
      ]
     },
     "execution_count": 74,
     "metadata": {},
     "output_type": "execute_result"
    },
    {
     "data": {
      "image/png": "[encoded data removed]",
      "text/plain": [
       "<Figure size 432x288 with 1 Axes>"
      ]
     },
     "metadata": {
      "needs_background": "light"
     },
     "output_type": "display_data"
    }
   ],
   "source": [
    "sns.boxplot(x=\"number_project\", y=\"last_evaluation\", hue=\"left\", data=data)"
   ]
  },
  {
   "cell_type": "markdown",
   "id": "5c19f2af",
   "metadata": {},
   "source": [
    "While understanding project count and turn over:\n",
    "More than half of the employees with 2,6, and 7 projects left the company Majority of the \n",
    "employees who did not leave the company had 3,4, and 5 projects All of the employees with \n",
    "7 projects left the company .There is an increase in employee turnover rate as project count \n",
    "increases.\n"
   ]
  },
  {
   "cell_type": "code",
   "execution_count": 75,
   "id": "4bf7bf3a",
   "metadata": {},
   "outputs": [
    {
     "data": {
      "text/plain": [
       "[Text(0, 0.5, 'Percent')]"
      ]
     },
     "execution_count": 75,
     "metadata": {},
     "output_type": "execute_result"
    },
    {
     "data": {
      "image/png": "[encoded data removed]",
      "text/plain": [
       "<Figure size 432x288 with 1 Axes>"
      ]
     },
     "metadata": {
      "needs_background": "light"
     },
     "output_type": "display_data"
    }
   ],
   "source": [
    "ax = sns.barplot(x=\"number_project\", y=\"number_project\", hue=\"left\", data=data, estimator=lambda x: len(x) / len(data) * 100)\n",
    "ax.set(ylabel=\"Percent\")"
   ]
  },
  {
   "cell_type": "markdown",
   "id": "98668586",
   "metadata": {},
   "source": [
    "Moreover salary levels were a good determinant of predicting turnover with low and medium \n",
    "salary levels to leave the company:"
   ]
  },
  {
   "cell_type": "code",
   "execution_count": 76,
   "id": "c186f01d",
   "metadata": {},
   "outputs": [
    {
     "data": {
      "image/png": "[encoded data removed]",
      "text/plain": [
       "<Figure size 432x288 with 1 Axes>"
      ]
     },
     "metadata": {
      "needs_background": "light"
     },
     "output_type": "display_data"
    }
   ],
   "source": [
    "table=pd.crosstab(data.salary, data.left)\n",
    "table.div(table.sum(1).astype(float), axis=0).plot(kind='bar', stacked=True)\n",
    "plt.title('Stacked Bar Chart of Salary Level vs Turnover')\n",
    "plt.xlabel('Salary Level')\n",
    "plt.ylabel('Proportion of Employees')\n",
    "plt.savefig('salary_bar_chart')"
   ]
  },
  {
   "cell_type": "markdown",
   "id": "fa47a53f",
   "metadata": {},
   "source": [
    "The Blue Cluster has low satisfaction (below 0.2) and high evaluation (more than 0.8). We \n",
    "can say that they were evaluated more so they had more average monthly hours ie they fell in \n",
    "the category of working 250hours/month. As we know, employees who did have a turnover \n",
    "had an increase in averageMonthlyHours with the increase in projects, so there was an \n",
    "increase in projects for them too. This is further proved by the heat map which showed the \n",
    "positive correlation between project count and evaluation and project count and average \n",
    "monthly hours. Similarly, satisfaction and turn over had a moderately negative correlation \n",
    "which was proven here. Thus they had become frustrated and sad despite being hard working.\n",
    "\n",
    "On average each employee works 201 hours a month The maximum monthly work hours in \n",
    "this dataset is 310 hours and this corresponds to 18 employees Interesting to note that all \n",
    "these 18 employees left the company: 9 had low salary and 9 had medium salary. None of \n",
    "them has had a promotion in the last 5 years. Their satisfaction level was very low, although \n",
    "their evaluation was very high (0.83); they were doing projects above average (6.2 projects) \n",
    "and their time spent at the company was on average 4 years. In order to retain them they \n",
    "should be offered an increase in salary which would affect their satisfaction level to an \n",
    "optimum level and cause them to stay back or commission can be offered as an alternative to \n",
    "retain them since they are already high performers thus they will be quicker in meeting \n",
    "commission targets. \n",
    "\n",
    "Moreover, since there is an increase in projects for them with increase in \n",
    "average working hours thus burn out levels should also be prevented by setting maximum \n",
    "hour boundary levels and vacations.\n",
    "\n",
    "The Grey Cluster has low evaluation (below 0.58 approximately) and low to moderate \n",
    "satisfaction levels (between 0.35-0.45). It can be said that this cluster was underperforming \n",
    "and had less average monthly hours and these lied in the category if working \n",
    "150hours/month. Since we know the positive correlation between project count and \n",
    "evaluation, project count and average monthly hours and average monthly hours and \n",
    "evaluation so we know that this is the cluster with 2 project counts that left the company. \n",
    "\n",
    "Since they had underperformed thus they were badly evaluated which naturally led them to \n",
    "feel unsatisfied and thus leave the company. In order to retain them it is a must to make them \n",
    "feel valued, and make them feel that their work contributes value addition to the company \n",
    "and thus it will allow them to take ownership and improve satisfaction. To improve \n",
    "evaluation levels thus more projects should be designated to them but it must be kept mindful \n",
    "that they do not cause burn either so the optimal level of projects should be 3-5, and more \n",
    "projects will lead to better evaluation and the employees will also no longer feel that their \n",
    "work is of no importance or does not contribute to their professional growth.\n",
    "\n",
    "The Green Cluster has high evaluation (>0.8) and high satisfaction levels (between 0.7 and \n",
    "1). It is evident that this cluster was ideal since not only the employees of this cluster were \n",
    "satisfied and loved their work but also were high performers for which they were highly \n",
    "evaluated. We can say that since they were highly evaluated so it means that not only they \n",
    "had an increase in average number of working hours but also average number of projects, this \n",
    "cluster must have had 6-7 projects. On average employees have been in the company for 3.5 \n",
    "years 65% have been for 2 and 3 years Employee Profile of who stayed longer than 10 years.\n",
    "\n",
    "There are 214 employees in this dataset that stayed longer than 10 years Their satisfaction \n",
    "level is a little above average - 0.65 Also their satisfaction level is a bit higher than average -\n",
    "0.7, also the employees who were promoted in the last five years are less likely to leave than \n",
    "those who did not get a promotion in the last five years. In order to retain them, they must be \n",
    "acknowledged by promoting them otherwise they will join other companies that would be \n",
    "contributing to their professional growth as this set of employees is already aware of its \n",
    "capabilities"
   ]
  },
  {
   "cell_type": "code",
   "execution_count": 77,
   "id": "b2695fe1",
   "metadata": {},
   "outputs": [
    {
     "data": {
      "text/html": [
       "<div>\n",
       "<style scoped>\n",
       "    .dataframe tbody tr th:only-of-type {\n",
       "        vertical-align: middle;\n",
       "    }\n",
       "\n",
       "    .dataframe tbody tr th {\n",
       "        vertical-align: top;\n",
       "    }\n",
       "\n",
       "    .dataframe thead th {\n",
       "        text-align: right;\n",
       "    }\n",
       "</style>\n",
       "<table border=\"1\" class=\"dataframe\">\n",
       "  <thead>\n",
       "    <tr style=\"text-align: right;\">\n",
       "      <th></th>\n",
       "      <th>satisfaction_level</th>\n",
       "      <th>last_evaluation</th>\n",
       "      <th>number_project</th>\n",
       "      <th>average_montly_hours</th>\n",
       "      <th>time_spend_company</th>\n",
       "      <th>Work_accident</th>\n",
       "      <th>promotion_last_5years</th>\n",
       "      <th>salary</th>\n",
       "      <th>Departments</th>\n",
       "    </tr>\n",
       "    <tr>\n",
       "      <th>left</th>\n",
       "      <th></th>\n",
       "      <th></th>\n",
       "      <th></th>\n",
       "      <th></th>\n",
       "      <th></th>\n",
       "      <th></th>\n",
       "      <th></th>\n",
       "      <th></th>\n",
       "      <th></th>\n",
       "    </tr>\n",
       "  </thead>\n",
       "  <tbody>\n",
       "    <tr>\n",
       "      <th>0</th>\n",
       "      <td>0.666810</td>\n",
       "      <td>0.715473</td>\n",
       "      <td>3.786664</td>\n",
       "      <td>199.060203</td>\n",
       "      <td>3.380032</td>\n",
       "      <td>0.175009</td>\n",
       "      <td>0.026251</td>\n",
       "      <td>1.347742</td>\n",
       "      <td>5.819041</td>\n",
       "    </tr>\n",
       "    <tr>\n",
       "      <th>1</th>\n",
       "      <td>0.440098</td>\n",
       "      <td>0.718113</td>\n",
       "      <td>3.855503</td>\n",
       "      <td>207.419210</td>\n",
       "      <td>3.876505</td>\n",
       "      <td>0.047326</td>\n",
       "      <td>0.005321</td>\n",
       "      <td>1.345842</td>\n",
       "      <td>6.035284</td>\n",
       "    </tr>\n",
       "  </tbody>\n",
       "</table>\n",
       "</div>"
      ],
      "text/plain": [
       "      satisfaction_level  last_evaluation  number_project  \\\n",
       "left                                                        \n",
       "0               0.666810         0.715473        3.786664   \n",
       "1               0.440098         0.718113        3.855503   \n",
       "\n",
       "      average_montly_hours  time_spend_company  Work_accident  \\\n",
       "left                                                            \n",
       "0               199.060203            3.380032       0.175009   \n",
       "1               207.419210            3.876505       0.047326   \n",
       "\n",
       "      promotion_last_5years    salary  Departments  \n",
       "left                                                \n",
       "0                  0.026251  1.347742     5.819041  \n",
       "1                  0.005321  1.345842     6.035284  "
      ]
     },
     "execution_count": 77,
     "metadata": {},
     "output_type": "execute_result"
    }
   ],
   "source": [
    "data.groupby('left').mean()"
   ]
  }
 ],
 "metadata": {
  "authors": [
   {
    "name": "Jorge Gustavo Rocha"
   },
   {
    "name": "Matilde Rocha"
   }
  ],
  "kernelspec": {
   "display_name": "Python 3 (ipykernel)",
   "language": "python",
   "name": "python3"
  },
  "language_info": {
   "codemirror_mode": {
    "name": "ipython",
    "version": 3
   },
   "file_extension": ".py",
   "mimetype": "text/x-python",
   "name": "python",
   "nbconvert_exporter": "python",
   "pygments_lexer": "ipython3",
   "version": "3.9.12"
  },
  "title": "It's a woodpecker from space"
 },
 "nbformat": 4,
 "nbformat_minor": 5
}
